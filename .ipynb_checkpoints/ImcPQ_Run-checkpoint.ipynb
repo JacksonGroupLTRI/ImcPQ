{
 "cells": [
  {
   "cell_type": "markdown",
   "metadata": {},
   "source": [
    "# ImcPQ\n",
    "\n",
    "### @Version3 Nov 2022 by Somi Afiuni"
   ]
  },
  {
   "cell_type": "markdown",
   "metadata": {},
   "source": [
    "### This module provides IMC segmentaion and expressions."
   ]
  },
  {
   "cell_type": "code",
   "execution_count": 1,
   "metadata": {},
   "outputs": [],
   "source": [
    "import os\n",
    "from os import listdir\n",
    "from glob import glob\n",
    "import pathlib\n",
    "import re\n",
    "import pandas as pd\n",
    "import numpy as np\n",
    "from numpy import array\n",
    "from imctools.converters import ome2analysis\n",
    "from imctools.converters import ome2histocat\n",
    "from imctools.converters import mcdfolder2imcfolder\n",
    "from imctools.converters import exportacquisitioncsv\n",
    "import skimage\n",
    "from skimage.transform import rescale, resize\n",
    "from skimage import exposure\n",
    "from shutil import copyfile\n",
    "from skimage.io import imread, imsave\n",
    "from matplotlib import pyplot as plt\n",
    "from deepcell.utils.plot_utils import create_rgb_image\n",
    "from deepcell.applications import Mesmer\n",
    "from imcpq_exp import get_panel, df_measured"
   ]
  },
  {
   "cell_type": "code",
   "execution_count": 2,
   "metadata": {},
   "outputs": [],
   "source": [
    "folder_path_base = './analysis'\n",
    "folder_data_base = './data'\n",
    "folder_config_base = './config'\n",
    "folders_path_inputs = ['./data']\n",
    "input_file_regexp = '.*.zip'\n",
    "file_path_csv_panel = './config/Panel.csv'\n",
    "csv_panel_metal = 'MetalTag'\n",
    "csv_panel_full = 'full'\n",
    "pathlib.Path(folder_path_base).mkdir(parents=True, exist_ok=True)\n",
    "pathlib.Path(folder_data_base).mkdir(parents=True, exist_ok=True)\n",
    "pathlib.Path(folder_config_base).mkdir(parents=True, exist_ok=True)\n",
    "folder_path_base = pathlib.Path(folder_path_base)\n",
    "folders_path_inputs = [pathlib.Path(f) for f in folders_path_inputs]\n",
    "folder_path_analysis = folder_path_base / 'tiffs'\n",
    "folder_path_ome= folder_path_base / 'ometiff'\n",
    "folder_path_cp = folder_path_base / 'output'\n",
    "folder_path_cp_input = folder_path_base / 'output'\n",
    "suffix_full = '_full'\n",
    "suffix_mask = '_mask.tiff'\n",
    "failed_images = list()\n",
    "for fol in [folder_path_analysis,\n",
    "            folder_path_ome, folder_path_cp]:\n",
    "    if not fol.exists():\n",
    "        fol.mkdir(parents=True)"
   ]
  },
  {
   "cell_type": "markdown",
   "metadata": {},
   "source": [
    "### Save zipped data (including an mcd file) in ImcPQ > data folder\n",
    "### Save panel as \"Panel\" in the ImcPQ> config folder. Panel should include MetalTag, Target, full, and IA columns."
   ]
  },
  {
   "cell_type": "code",
   "execution_count": 3,
   "metadata": {},
   "outputs": [],
   "source": [
    "failed_images = list()\n",
    "re_fn = re.compile(input_file_regexp)\n",
    "\n",
    "for fol in folders_path_inputs:\n",
    "    for fn in fol.glob('*'):\n",
    "        if re_fn.match(fn.name):\n",
    "            mcdfolder2imcfolder.mcdfolder_to_imcfolder(fn, output_folder=folder_path_ome)\n",
    "exportacquisitioncsv.export_acquisition_csv(folder_path_ome, output_folder=folder_path_cp_input)\n",
    "list_analysis_stacks =[\n",
    "    (csv_panel_full, suffix_full, 0)]\n",
    "            "
   ]
  },
  {
   "cell_type": "code",
   "execution_count": 1,
   "metadata": {},
   "outputs": [],
   "source": [
    "ome2analysis.omefolder_to_analysisfolder(folder_path_ome, folder_path_analysis, panel_csv_file=file_path_csv_panel,\n",
    "                                         analysis_stacks=(list_analysis_stacks), metalcolumn=csv_panel_metal)\n",
    "print(ome2analysis.omefolder_to_analysisfolder)"
   ]
  },
  {
   "cell_type": "markdown",
   "metadata": {},
   "source": [
    "## Sample Map"
   ]
  },
  {
   "cell_type": "code",
   "execution_count": 7,
   "metadata": {},
   "outputs": [],
   "source": [
    "csv_ac_md = os.path.join(folder_path_cp_input, 'acquisition_metadata.csv')\n",
    "ac_md = pd.read_csv(csv_ac_md, sep=',')\n",
    "ac_md['TiffName'] = ac_md.AcSession.map(str)+\"_s0\"+\"_a\"+ ac_md.id.map(str)+\"_ac_full.tiff\"\n",
    "ac_md['ROI_id'] = ac_md.AcSession.map(str) +'_'+ ac_md.id.map(str)\n",
    "tiffToSample = ac_md[['TiffName', 'description', 'ROI_id']]\n",
    "tiffToSample = tiffToSample.rename(columns = {'description' : 'Sample', 'ROI_id' : 'SampleName'})\n",
    "tiffToSample.to_csv('./analysis/output/Sample.csv', index=False)"
   ]
  },
  {
   "cell_type": "markdown",
   "metadata": {},
   "source": [
    "## IA Generating"
   ]
  },
  {
   "cell_type": "code",
   "execution_count": 8,
   "metadata": {},
   "outputs": [
    {
     "name": "stdout",
     "output_type": "stream",
     "text": [
      "/Users/somi/Desktop/Somi/Notebooks/ImcPQ/ImcPQV3-mapper-spatial/analysis/tiffs/20210212_Exp_19_QC19-0032A1-34_Skin_s0_a7_ac_IA.tiff\n",
      "/Users/somi/Desktop/Somi/Notebooks/ImcPQ/ImcPQV3-mapper-spatial/analysis/tiffs/20210212_Exp_19_QC19-0032A1-34_Skin_s0_a11_ac_IA.tiff\n",
      "/Users/somi/Desktop/Somi/Notebooks/ImcPQ/ImcPQV3-mapper-spatial/analysis/tiffs/20210212_Exp_19_QC19-0032A1-34_Skin_s0_a16_ac_IA.tiff\n",
      "/Users/somi/Desktop/Somi/Notebooks/ImcPQ/ImcPQV3-mapper-spatial/analysis/tiffs/20210212_Exp_19_QC19-0032A1-34_Skin_s0_a6_ac_IA.tiff\n",
      "/Users/somi/Desktop/Somi/Notebooks/ImcPQ/ImcPQV3-mapper-spatial/analysis/tiffs/20210212_Exp_19_QC19-0032A1-34_Skin_s0_a1_ac_IA.tiff\n",
      "/Users/somi/Desktop/Somi/Notebooks/ImcPQ/ImcPQV3-mapper-spatial/analysis/tiffs/20210212_Exp_19_QC19-0032A1-34_Skin_s0_a10_ac_IA.tiff\n",
      "/Users/somi/Desktop/Somi/Notebooks/ImcPQ/ImcPQV3-mapper-spatial/analysis/tiffs/20210212_Exp_19_QC19-0032A1-34_Skin_s0_a3_ac_IA.tiff\n",
      "/Users/somi/Desktop/Somi/Notebooks/ImcPQ/ImcPQV3-mapper-spatial/analysis/tiffs/20210212_Exp_19_QC19-0032A1-34_Skin_s0_a4_ac_IA.tiff\n",
      "/Users/somi/Desktop/Somi/Notebooks/ImcPQ/ImcPQV3-mapper-spatial/analysis/tiffs/20210212_Exp_19_QC19-0032A1-34_Skin_s0_a12_ac_IA.tiff\n",
      "/Users/somi/Desktop/Somi/Notebooks/ImcPQ/ImcPQV3-mapper-spatial/analysis/tiffs/20210212_Exp_19_QC19-0032A1-34_Skin_s0_a15_ac_IA.tiff\n",
      "/Users/somi/Desktop/Somi/Notebooks/ImcPQ/ImcPQV3-mapper-spatial/analysis/tiffs/20210212_Exp_19_QC19-0032A1-34_Skin_s0_a5_ac_IA.tiff\n",
      "/Users/somi/Desktop/Somi/Notebooks/ImcPQ/ImcPQV3-mapper-spatial/analysis/tiffs/20210212_Exp_19_QC19-0032A1-34_Skin_s0_a2_ac_IA.tiff\n",
      "/Users/somi/Desktop/Somi/Notebooks/ImcPQ/ImcPQV3-mapper-spatial/analysis/tiffs/20210212_Exp_19_QC19-0032A1-34_Skin_s0_a13_ac_IA.tiff\n",
      "/Users/somi/Desktop/Somi/Notebooks/ImcPQ/ImcPQV3-mapper-spatial/analysis/tiffs/20210212_Exp_19_QC19-0032A1-34_Skin_s0_a8_ac_IA.tiff\n",
      "/Users/somi/Desktop/Somi/Notebooks/ImcPQ/ImcPQV3-mapper-spatial/analysis/tiffs/20210212_Exp_19_QC19-0032A1-34_Skin_s0_a9_ac_IA.tiff\n"
     ]
    }
   ],
   "source": [
    "folder_path_base = pathlib.Path(folder_path_base)\n",
    "folder_path_analysis = folder_path_base / 'tiffs'\n",
    "folder_path_base = './analysis'\n",
    "def find_csv_filenames( path_to_dir, suffix=\".csv\" ):\n",
    "    filenames = listdir(path_to_dir)\n",
    "    return [ filename for filename in filenames if filename.endswith( suffix ) ]\n",
    "csv_tiff_files = find_csv_filenames(folder_path_analysis)\n",
    "csv_channel_seq = os.path.join(folder_path_analysis, csv_tiff_files[0])\n",
    "df_ch = pd.read_csv(csv_channel_seq, sep=',', header=None)\n",
    "df_ch.columns = ['MetalTag']\n",
    "df = pd.read_csv(file_path_csv_panel, sep=',')\n",
    "df = df[df['full'] == 1]\n",
    "join_df = df_ch.set_index('MetalTag').join(df.set_index('MetalTag'))\n",
    "join_df['metal_ch_index']= range(1, len(join_df) + 1)\n",
    "IA = list(set(join_df[join_df.IA>0].IA)) \n",
    "start_dir = folder_path_analysis\n",
    "for file in os.listdir(start_dir):\n",
    "    if '_full.tiff' in file:\n",
    "        full_tiff_file = os.path.join(start_dir, file)\n",
    "        IA_file_name = file.replace(\"_full.tiff\", \"_IA.tiff\")\n",
    "        im = imread(full_tiff_file)\n",
    "        if im.shape[0]<im.shape[1] and im.shape[0]<im.shape[2] : \n",
    "            im = np.rollaxis(im, 0, 3) \n",
    "        IA_stack = np.zeros((im.shape[0],im.shape[1],3))\n",
    "        for cats in IA: \n",
    "            j = int(cats) \n",
    "            pnl = join_df.loc[(join_df['full'] == 1 ) & (join_df['IA'] == j)]\n",
    "            ims = im[:, :, pnl['metal_ch_index']-1]\n",
    "            IA_stack[:,:,j-1] = ims.sum(axis=2)\n",
    "            IA_stack2 = rescale(IA_stack,1, multichannel=True, anti_aliasing=False, mode='reflect')\n",
    "            IA_stack2 = np.array(IA_stack2,dtype='uint16')\n",
    "        fn = os.path.join(os.path.abspath(start_dir), IA_file_name)\n",
    "        imsave(fn, IA_stack2, check_contrast=False)"
   ]
  },
  {
   "cell_type": "markdown",
   "metadata": {},
   "source": [
    "## Segmentaion"
   ]
  },
  {
   "cell_type": "code",
   "execution_count": null,
   "metadata": {},
   "outputs": [],
   "source": [
    "base_path = './analysis/tiffs'\n",
    "for file in os.listdir(base_path):\n",
    "    if 'IA.tiff' in file:\n",
    "        ex_mask_fn = file.replace('IA.tiff', 'IA_mask.tiff')\n",
    "        if os.path.isfile(os.path.join(base_path, ex_mask_fn)):\n",
    "            continue\n",
    "        iao = os.path.join(base_path, file)\n",
    "        im = imread(iao)\n",
    "        image = np.expand_dims(im, axis=0)\n",
    "        rgb_im = create_rgb_image(image[:, :, :, 0:2], channel_colors=['green', 'blue'])\n",
    "        app = Mesmer()\n",
    "        seg_pred = app.predict(image[:, :, :, 0:2], image_mpp=0.5)\n",
    "        for_tiff = np.array(seg_pred[0],dtype='uint16')\n",
    "        fn = os.path.join(base_path, file.replace('IA.tiff', 'IA_mask.tiff'))\n",
    "        imsave(fn, for_tiff, check_contrast=False)"
   ]
  },
  {
   "cell_type": "markdown",
   "metadata": {},
   "source": [
    "## Expressions"
   ]
  },
  {
   "cell_type": "code",
   "execution_count": 9,
   "metadata": {},
   "outputs": [],
   "source": [
    "#Reading files\n",
    "current_path = os.path.abspath(os.getcwd())\n",
    "folder_path_base = os.path.join(current_path, 'analysis', 'tiffs')\n",
    "folder_data_base = os.path.join(current_path, 'data')\n",
    "file_path_csv_panel = os.path.join(current_path, 'config', 'Panel.csv') \n",
    "file_path_sample = os.path.join(current_path, 'analysis', 'output', 'Sample.csv')\n",
    "output_measurments_file = os.path.join(current_path, 'analysis', 'output', 'measurements.csv')\n",
    "sample_df = pd.read_csv(file_path_sample)\n",
    "panel_df = pd.read_csv(os.path.join(file_path_csv_panel))\n",
    "panel = get_panel(folder_path_base, panel_df)"
   ]
  },
  {
   "cell_type": "code",
   "execution_count": 11,
   "metadata": {},
   "outputs": [],
   "source": [
    "expressions = df_measured(folder_path_base, sample_df, panel)\n",
    "expressions.to_csv('./analysis/output/measurements.csv', index=False)"
   ]
  }
 ],
 "metadata": {
  "kernelspec": {
   "display_name": "Python 3 (ipykernel)",
   "language": "python",
   "name": "python3"
  },
  "language_info": {
   "codemirror_mode": {
    "name": "ipython",
    "version": 3
   },
   "file_extension": ".py",
   "mimetype": "text/x-python",
   "name": "python",
   "nbconvert_exporter": "python",
   "pygments_lexer": "ipython3",
   "version": "3.8.16"
  },
  "vscode": {
   "interpreter": {
    "hash": "92a8f09ebdee7a7ccc900142fc07ddd439f7ce2aa1bbfea9024db421bec27d89"
   }
  }
 },
 "nbformat": 4,
 "nbformat_minor": 4
}
