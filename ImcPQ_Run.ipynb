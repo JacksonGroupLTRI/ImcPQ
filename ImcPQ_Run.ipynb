{
 "cells": [
  {
   "cell_type": "markdown",
   "metadata": {},
   "source": [
    "# ImcPQ\n",
    "\n",
    "### @Version3 Nov 2022 by Somi Afiuni"
   ]
  },
  {
   "cell_type": "markdown",
   "metadata": {},
   "source": [
    "### This module provides IMC segmentaion and expressions."
   ]
  },
  {
   "cell_type": "code",
   "execution_count": 69,
   "metadata": {},
   "outputs": [],
   "source": [
    "import os\n",
    "from os import listdir\n",
    "from glob import glob\n",
    "import pathlib\n",
    "import re\n",
    "import pandas as pd\n",
    "import numpy as np\n",
    "from numpy import array\n",
    "from imctools.converters import ome2analysis\n",
    "from imctools.converters import ome2histocat\n",
    "from imctools.converters import mcdfolder2imcfolder\n",
    "from imctools.converters import exportacquisitioncsv\n",
    "import skimage\n",
    "from skimage.transform import rescale, resize\n",
    "from skimage import exposure\n",
    "from shutil import copyfile\n",
    "from skimage.io import imread, imsave\n",
    "from matplotlib import pyplot as plt\n",
    "from deepcell.utils.plot_utils import create_rgb_image\n",
    "from deepcell.applications import Mesmer\n",
    "from imcpq_exp import get_panel, df_measured"
   ]
  },
  {
   "cell_type": "code",
   "execution_count": 82,
   "metadata": {},
   "outputs": [],
   "source": [
    "folder_path_base = './analysis'\n",
    "folder_data_base = './data'\n",
    "folder_config_base = './config'\n",
    "folders_path_inputs = ['./data']\n",
    "input_file_regexp = '.*.zip'\n",
    "file_path_csv_panel = './config/Panel.csv'\n",
    "csv_panel_metal = 'MetalTag'\n",
    "csv_panel_full = 'full'\n",
    "pathlib.Path(folder_path_base).mkdir(parents=True, exist_ok=True)\n",
    "pathlib.Path(folder_data_base).mkdir(parents=True, exist_ok=True)\n",
    "pathlib.Path(folder_config_base).mkdir(parents=True, exist_ok=True)\n",
    "folder_path_base = pathlib.Path(folder_path_base)\n",
    "folders_path_inputs = [pathlib.Path(f) for f in folders_path_inputs]\n",
    "folder_path_analysis = folder_path_base / 'tiffs'\n",
    "folder_path_ome= folder_path_base / 'ometiff'\n",
    "folder_path_cp = folder_path_base / 'output'\n",
    "folder_path_cp_input = folder_path_base / 'output'\n",
    "suffix_full = '_full'\n",
    "suffix_mask = '_mask.tiff'\n",
    "failed_images = list()\n",
    "for fol in [folder_path_analysis,\n",
    "            folder_path_ome, folder_path_cp]:\n",
    "    if not fol.exists():\n",
    "        fol.mkdir(parents=True)"
   ]
  },
  {
   "cell_type": "markdown",
   "metadata": {},
   "source": [
    "### Save zipped data (including an mcd file) in ImcPQ > data folder\n",
    "### Save panel as \"Panel\" in the ImcPQ> config folder. Panel should include MetalTag, Target, full, and IA columns."
   ]
  },
  {
   "cell_type": "code",
   "execution_count": 72,
   "metadata": {},
   "outputs": [],
   "source": [
    "failed_images = list()\n",
    "re_fn = re.compile(input_file_regexp)\n",
    "\n",
    "for fol in folders_path_inputs:\n",
    "    for fn in fol.glob('*'):\n",
    "        if re_fn.match(fn.name):\n",
    "            mcdfolder2imcfolder.mcdfolder_to_imcfolder(fn, output_folder=folder_path_ome)\n",
    "exportacquisitioncsv.export_acquisition_csv(folder_path_ome, output_folder=folder_path_cp_input)\n",
    "list_analysis_stacks =[\n",
    "    (csv_panel_full, suffix_full, 0)] #acquisitions[0] index out of range error is because of\n",
    "            "
   ]
  },
  {
   "cell_type": "code",
   "execution_count": 73,
   "metadata": {},
   "outputs": [
    {
     "name": "stdout",
     "output_type": "stream",
     "text": [
      "<function omefolder_to_analysisfolder at 0x7f85806c4670>\n"
     ]
    }
   ],
   "source": [
    "ome2analysis.omefolder_to_analysisfolder(folder_path_ome, folder_path_analysis, panel_csv_file=file_path_csv_panel,\n",
    "                                         analysis_stacks=(list_analysis_stacks), metalcolumn=csv_panel_metal)\n",
    "print(ome2analysis.omefolder_to_analysisfolder)"
   ]
  },
  {
   "cell_type": "markdown",
   "metadata": {},
   "source": [
    "## Sample Map"
   ]
  },
  {
   "cell_type": "code",
   "execution_count": 74,
   "metadata": {},
   "outputs": [],
   "source": [
    "csv_ac_md = os.path.join(folder_path_cp_input, 'acquisition_metadata.csv')\n",
    "ac_md = pd.read_csv(csv_ac_md, sep=',')\n",
    "ac_md['TiffName'] = ac_md.AcSession.map(str)+\"_s0\"+\"_a\"+ ac_md.id.map(str)+\"_ac_full.tiff\"\n",
    "ac_md['ROI_id'] = ac_md.AcSession.map(str) +'_'+ ac_md.id.map(str)\n",
    "tiffToSample = ac_md[['TiffName', 'description', 'ROI_id']]\n",
    "tiffToSample = tiffToSample.rename(columns = {'description' : 'Sample', 'ROI_id' : 'SampleName'})\n",
    "tiffToSample.to_csv('./analysis/output/Sample.csv', index=False)"
   ]
  },
  {
   "cell_type": "markdown",
   "metadata": {},
   "source": [
    "## Image Normalization "
   ]
  },
  {
   "cell_type": "code",
   "execution_count": 84,
   "metadata": {},
   "outputs": [
    {
     "ename": "TypeError",
     "evalue": "unsupported operand type(s) for /: 'str' and 'str'",
     "output_type": "error",
     "traceback": [
      "\u001b[0;31m---------------------------------------------------------------------------\u001b[0m",
      "\u001b[0;31mTypeError\u001b[0m                                 Traceback (most recent call last)",
      "Cell \u001b[0;32mIn[84], line 2\u001b[0m\n\u001b[1;32m      1\u001b[0m \u001b[38;5;66;03m#image-level arcsinh normalization with cofactor = 5, and then scaling to 0-1 range for each channel\u001b[39;00m\n\u001b[0;32m----> 2\u001b[0m folder_path_analysis \u001b[38;5;241m=\u001b[39m \u001b[43mfolder_path_base\u001b[49m\u001b[43m \u001b[49m\u001b[38;5;241;43m/\u001b[39;49m\u001b[43m \u001b[49m\u001b[38;5;124;43m'\u001b[39;49m\u001b[38;5;124;43mtiffs\u001b[39;49m\u001b[38;5;124;43m'\u001b[39;49m\n\u001b[1;32m      3\u001b[0m start_dir \u001b[38;5;241m=\u001b[39m folder_path_analysis\n\u001b[1;32m      4\u001b[0m \u001b[38;5;28;01mfor\u001b[39;00m file \u001b[38;5;129;01min\u001b[39;00m os\u001b[38;5;241m.\u001b[39mlistdir(start_dir):\n",
      "\u001b[0;31mTypeError\u001b[0m: unsupported operand type(s) for /: 'str' and 'str'"
     ]
    }
   ],
   "source": [
    "#image-level arcsinh normalization with cofactor = 5, and then scaling to 0-1 range for each channel\n",
    "folder_path_analysis = folder_path_base / 'tiffs'\n",
    "start_dir = folder_path_analysis\n",
    "for file in os.listdir(start_dir):\n",
    "    if '_full.tiff' in file:\n",
    "        full_tiff_file = os.path.join(start_dir, file)\n",
    "        im = imread(full_tiff_file)\n",
    "        im = im.astype(np.float64) / 2\n",
    "        im = np.arcsinh(im)\n",
    "        img_min = np.min(im, axis=(0, 1), keepdims=True)\n",
    "        img_max = np.max(im, axis=(0, 1), keepdims=True)\n",
    "        im = (im - img_min) / (img_max - img_min)\n",
    "        #convert to uint16 for saving\n",
    "        # Scale the float64 values to the range [0, 65535]\n",
    "        scaled_array = np.round(im * 65535).astype(np.uint16)\n",
    "        # Verify that the scaled values match the original values\n",
    "       # assert np.allclose(im, scaled_array / 65535) # NEED TO CHECK IF THERE IS STILL SOME LOSS- this checks to see if there is loss... and there is some loss. How can I prevent\n",
    "        im = scaled_array\n",
    "        scaled_file_name = file.replace(\"_full.tiff\", \"_asin.tiff\") #\"_asin.tiff\"\n",
    "        fn = os.path.join(start_dir, scaled_file_name)  \n",
    "        #imsave(fn, im, check_contrast=False)"
   ]
  },
  {
   "cell_type": "code",
   "execution_count": 58,
   "metadata": {},
   "outputs": [
    {
     "data": {
      "text/plain": [
       "dtype('float64')"
      ]
     },
     "execution_count": 58,
     "metadata": {},
     "output_type": "execute_result"
    }
   ],
   "source": [
    "im.dtype"
   ]
  },
  {
   "cell_type": "markdown",
   "metadata": {},
   "source": [
    "## IA Generating"
   ]
  },
  {
   "cell_type": "code",
   "execution_count": 76,
   "metadata": {},
   "outputs": [],
   "source": [
    "folder_path_base = pathlib.Path(folder_path_base)\n",
    "folder_path_analysis = folder_path_base / 'tiffs'\n",
    "folder_path_base = './analysis'\n",
    "def find_csv_filenames( path_to_dir, suffix=\".csv\" ):\n",
    "    filenames = listdir(path_to_dir)\n",
    "    return [ filename for filename in filenames if filename.endswith( suffix ) ]\n",
    "csv_tiff_files = find_csv_filenames(folder_path_analysis)\n",
    "csv_channel_seq = os.path.join(folder_path_analysis, csv_tiff_files[0])\n",
    "df_ch = pd.read_csv(csv_channel_seq, sep=',', header=None)\n",
    "df_ch.columns = ['MetalTag']\n",
    "df = pd.read_csv(file_path_csv_panel, sep=',')\n",
    "df = df[df['full'] == 1]\n",
    "join_df = df_ch.set_index('MetalTag').join(df.set_index('MetalTag'))\n",
    "join_df['metal_ch_index']= range(1, len(join_df) + 1)\n",
    "IA = list(set(join_df[join_df.IA>0].IA)) \n",
    "start_dir = folder_path_analysis"
   ]
  },
  {
   "cell_type": "code",
   "execution_count": 77,
   "metadata": {},
   "outputs": [
    {
     "name": "stdout",
     "output_type": "stream",
     "text": [
      "(49, 1000, 1000)\n",
      "(49, 1000, 1000)\n",
      "(49, 381, 381)\n",
      "(49, 1000, 1000)\n",
      "(49, 1000, 1000)\n",
      "(49, 1000, 1000)\n",
      "(49, 1000, 1000)\n",
      "(49, 1000, 1000)\n",
      "(49, 944, 1000)\n",
      "(49, 935, 701)\n",
      "(49, 373, 373)\n",
      "(49, 1000, 1000)\n",
      "(49, 1000, 1000)\n",
      "(49, 1000, 1000)\n",
      "(49, 1000, 1000)\n",
      "(49, 1000, 1000)\n",
      "(49, 230, 381)\n",
      "(49, 1000, 1000)\n",
      "(49, 811, 1000)\n",
      "(49, 821, 1000)\n",
      "(49, 1000, 1000)\n",
      "(49, 797, 1000)\n",
      "(49, 906, 1000)\n",
      "(49, 1000, 1000)\n",
      "(49, 1000, 1000)\n",
      "(49, 1000, 1000)\n",
      "(49, 386, 386)\n",
      "(49, 1000, 1000)\n",
      "(49, 1000, 1000)\n",
      "(49, 898, 1000)\n",
      "(49, 1000, 1000)\n",
      "(49, 1000, 1000)\n",
      "(49, 1000, 1000)\n",
      "(49, 1000, 1000)\n",
      "(49, 219, 1000)\n",
      "(49, 1000, 1000)\n",
      "(49, 1000, 1000)\n",
      "(49, 1000, 1000)\n",
      "(49, 1000, 1000)\n",
      "(49, 1000, 1000)\n",
      "(49, 1000, 1000)\n",
      "(49, 435, 1000)\n",
      "(49, 1000, 1000)\n",
      "(49, 1000, 1000)\n",
      "(49, 781, 1000)\n",
      "(49, 1000, 1000)\n",
      "(49, 1000, 1000)\n",
      "(49, 1000, 1000)\n",
      "(49, 1000, 1000)\n",
      "(49, 1000, 1000)\n",
      "(49, 1000, 1000)\n",
      "(49, 1000, 1000)\n",
      "(49, 362, 362)\n",
      "(49, 1000, 1000)\n",
      "(49, 1000, 1000)\n",
      "(49, 1000, 1000)\n",
      "(49, 1000, 1000)\n",
      "(49, 137, 137)\n",
      "(49, 731, 1000)\n",
      "(49, 1000, 1000)\n",
      "(49, 1000, 1000)\n",
      "(49, 1000, 1000)\n",
      "(49, 1000, 1000)\n",
      "(49, 137, 137)\n",
      "(49, 1000, 1000)\n",
      "(49, 816, 1000)\n",
      "(49, 1000, 1000)\n",
      "(49, 1000, 1000)\n",
      "(49, 1000, 1000)\n",
      "(49, 906, 1000)\n",
      "(49, 1000, 1000)\n",
      "(49, 1000, 1000)\n",
      "(49, 1000, 1000)\n",
      "(49, 1000, 1000)\n",
      "(49, 1000, 1000)\n",
      "(49, 1000, 1000)\n",
      "(49, 380, 380)\n",
      "(49, 1000, 1000)\n",
      "(49, 1000, 1000)\n",
      "(49, 1000, 1000)\n",
      "(49, 1000, 1000)\n",
      "(49, 1000, 1000)\n",
      "(49, 1000, 1000)\n",
      "(49, 1000, 1000)\n",
      "(49, 389, 389)\n",
      "(49, 1000, 1000)\n",
      "(49, 1000, 1000)\n",
      "(49, 1000, 1000)\n",
      "(49, 1000, 1000)\n",
      "(49, 1000, 1000)\n",
      "(49, 1000, 1000)\n",
      "(49, 1000, 1000)\n",
      "(49, 123, 123)\n",
      "(49, 1000, 1000)\n",
      "(49, 1000, 1000)\n",
      "(49, 1000, 1000)\n",
      "(49, 1000, 1000)\n",
      "(49, 1000, 1000)\n",
      "(49, 1000, 1000)\n",
      "(49, 1000, 1000)\n",
      "(49, 1000, 1000)\n",
      "(49, 1000, 1000)\n",
      "(49, 1000, 1000)\n",
      "(49, 908, 1000)\n",
      "(49, 341, 341)\n",
      "(49, 380, 380)\n",
      "(49, 1000, 1000)\n",
      "(49, 1000, 1000)\n",
      "(49, 1000, 1000)\n",
      "(49, 1000, 1000)\n",
      "(49, 1000, 1000)\n",
      "(49, 1000, 1000)\n",
      "(49, 1000, 1000)\n",
      "(49, 1000, 1000)\n",
      "(49, 1000, 1000)\n",
      "(49, 1000, 1000)\n",
      "(49, 1000, 1000)\n",
      "(49, 942, 1000)\n",
      "(49, 804, 213)\n",
      "(49, 1000, 1000)\n"
     ]
    }
   ],
   "source": [
    "for file in os.listdir(start_dir):\n",
    "    if '_asin.tiff' in file: #CHANGED\n",
    "        full_tiff_file = os.path.join(start_dir, file)\n",
    "        IA_file_name = file.replace(\"_asin.tiff\", \"_IA.tiff\")\n",
    "        im = imread(full_tiff_file) \n",
    "        print(im.shape)\n",
    "        c, h, w = im.shape\n",
    "        if h < c: #the index error happens when number of channels in included in full.tiff is less than number of pixels. 50 is good rule of thumb to avoid this error\n",
    "            print(h, \"height less than number of channels- removed\", IA_file_name)\n",
    "            os.remove(full_tiff_file) #remove file that created error (it is almost always a laser test)\n",
    "            os.remove(file.replace(\"_asin.tiff\", \"_full.csv\")) #remove file that created error (it is almost always a laser test)\n",
    "           # full_tiff_file\n",
    "            continue\n",
    "        if w < c:  #the index error happens when number of channels in included in full.tiff is less than number of pixels. 50 is good rule of thumb to avoid this error\n",
    "            print(w, \"width less than number of channels- removed\", IA_file_name)\n",
    "            os.remove(full_tiff_file) #remove file that created error (it is almost always a laser test)\n",
    "            os.remove(file.replace(\"_asin.tiff\", \"_full.csv\")) #remove file that created error (it is almost always a laser test)\n",
    "            continue\n",
    "        if im.shape[0]<im.shape[1] and im.shape[0]<im.shape[2] : \n",
    "            im = np.rollaxis(im, 0, 3) \n",
    "            IA_stack = np.zeros((im.shape[0],im.shape[1],3))\n",
    "            for cats in IA: \n",
    "                j = int(cats) \n",
    "                pnl = join_df.loc[(join_df['full'] == 1 ) & (join_df['IA'] == j)]\n",
    "                ims = im[:, :, pnl['metal_ch_index']-1]\n",
    "                IA_stack[:,:,j-1] = ims.sum(axis=2)\n",
    "                IA_stack2 = rescale(IA_stack,1, multichannel=True, anti_aliasing=False, mode='reflect')\n",
    "                IA_stack2 = np.array(IA_stack2,dtype='uint16')\n",
    "            fn = os.path.join(os.path.abspath(start_dir), IA_file_name)\n",
    "            imsave(fn, IA_stack2, check_contrast=False)\n",
    "        "
   ]
  },
  {
   "cell_type": "code",
   "execution_count": 39,
   "metadata": {},
   "outputs": [],
   "source": [
    "#pnl['metal_ch_index']-1"
   ]
  },
  {
   "cell_type": "markdown",
   "metadata": {},
   "source": [
    "## Segmentation"
   ]
  },
  {
   "cell_type": "markdown",
   "metadata": {},
   "source": [
    "### Add Padding to Smallest Images"
   ]
  },
  {
   "cell_type": "code",
   "execution_count": 78,
   "metadata": {},
   "outputs": [
    {
     "name": "stdout",
     "output_type": "stream",
     "text": [
      "Oh No - width too low TMA_2022_PDAC1_rev_s0_a109_ac_IA.tiff\n",
      "Oh No - height too low TMA_2022_PDAC1_rev_s0_a112_ac_IA.tiff\n",
      "Oh No - height too low TMA_2022_PDAC1_rev_s0_a120_ac_IA.tiff\n",
      "Oh No - width too low TMA_2022_PDAC1_rev_s0_a120_ac_IA.tiff\n",
      "Oh No - height too low TMA_2022_PDAC1_rev_s0_a57_ac_IA.tiff\n",
      "Oh No - height too low TMA_2022_PDAC1_rev_s0_a58_ac_IA.tiff\n",
      "Oh No - width too low TMA_2022_PDAC1_rev_s0_a58_ac_IA.tiff\n",
      "Oh No - height too low TMA_2022_PDAC1_rev_s0_a2_ac_IA.tiff\n",
      "Oh No - width too low TMA_2022_PDAC1_rev_s0_a2_ac_IA.tiff\n"
     ]
    }
   ],
   "source": [
    "#add padding to the smaller images (the ones less than 256), to prevent them from failing segmentation\n",
    "#all the ones that fail are less than 256 x 256, although not all images less than 256x256 fail\n",
    "base_path = './analysis/tiffs'\n",
    "for file in os.listdir(base_path):\n",
    "    if 'IA.tiff' in file:\n",
    "        iao = os.path.join(base_path, file)\n",
    "        im = imread(iao)\n",
    "        im = im.transpose(2,0,1)  #transpose to work with padding\n",
    "        c, h, w,  = im.shape\n",
    "        #print(len(im))\n",
    "        if h < 256:\n",
    "            print(\"Oh No - height too low\", file)\n",
    "            im = np.asarray([np.pad(x, pad_width=((256 - h, 0), (0,0) ), mode='constant', constant_values= 0,) for x in im])\n",
    "            #print(im.shape)\n",
    "        #print(w)\n",
    "        if w < 256:\n",
    "            print(\"Oh No - width too low\", file) \n",
    "            im = np.asarray([np.pad(x, pad_width=((0, 0), (256-w,0) ), mode='constant', constant_values= 0,) for x in im])\n",
    "            #print(im.shape)\n",
    "        im = im.transpose(1,2,0)   #transpose back after padding\n",
    "        #print(im.shape)\n",
    "        for_tiff = np.array(im, dtype='uint16') \n",
    "        fn = os.path.join(base_path, file)  \n",
    "        imsave(fn, for_tiff, check_contrast=False)"
   ]
  },
  {
   "cell_type": "markdown",
   "metadata": {},
   "source": [
    "### Deepcell Segmentation"
   ]
  },
  {
   "cell_type": "code",
   "execution_count": 79,
   "metadata": {},
   "outputs": [
    {
     "name": "stdout",
     "output_type": "stream",
     "text": [
      "WARNING:tensorflow:No training configuration found in save file, so the model was *not* compiled. Compile it manually.\n"
     ]
    },
    {
     "name": "stderr",
     "output_type": "stream",
     "text": [
      "WARNING:tensorflow:No training configuration found in save file, so the model was *not* compiled. Compile it manually.\n",
      "/Users/ferris/opt/anaconda3/envs/imcpq_env3/lib/python3.8/site-packages/skimage/morphology/_deprecated.py:5: skimage_deprecation: Function ``watershed`` is deprecated and will be removed in version 0.19. Use ``skimage.segmentation.watershed`` instead.\n",
      "  def watershed(image, markers=None, connectivity=1, offset=None, mask=None,\n"
     ]
    },
    {
     "name": "stdout",
     "output_type": "stream",
     "text": [
      "WARNING:tensorflow:No training configuration found in save file, so the model was *not* compiled. Compile it manually.\n"
     ]
    },
    {
     "name": "stderr",
     "output_type": "stream",
     "text": [
      "WARNING:tensorflow:No training configuration found in save file, so the model was *not* compiled. Compile it manually.\n",
      "/Users/ferris/opt/anaconda3/envs/imcpq_env3/lib/python3.8/site-packages/skimage/morphology/_deprecated.py:5: skimage_deprecation: Function ``watershed`` is deprecated and will be removed in version 0.19. Use ``skimage.segmentation.watershed`` instead.\n",
      "  def watershed(image, markers=None, connectivity=1, offset=None, mask=None,\n"
     ]
    },
    {
     "name": "stdout",
     "output_type": "stream",
     "text": [
      "WARNING:tensorflow:No training configuration found in save file, so the model was *not* compiled. Compile it manually.\n"
     ]
    },
    {
     "name": "stderr",
     "output_type": "stream",
     "text": [
      "WARNING:tensorflow:No training configuration found in save file, so the model was *not* compiled. Compile it manually.\n",
      "/Users/ferris/opt/anaconda3/envs/imcpq_env3/lib/python3.8/site-packages/skimage/morphology/_deprecated.py:5: skimage_deprecation: Function ``watershed`` is deprecated and will be removed in version 0.19. Use ``skimage.segmentation.watershed`` instead.\n",
      "  def watershed(image, markers=None, connectivity=1, offset=None, mask=None,\n"
     ]
    },
    {
     "name": "stdout",
     "output_type": "stream",
     "text": [
      "WARNING:tensorflow:No training configuration found in save file, so the model was *not* compiled. Compile it manually.\n"
     ]
    },
    {
     "name": "stderr",
     "output_type": "stream",
     "text": [
      "WARNING:tensorflow:No training configuration found in save file, so the model was *not* compiled. Compile it manually.\n",
      "/Users/ferris/opt/anaconda3/envs/imcpq_env3/lib/python3.8/site-packages/skimage/morphology/_deprecated.py:5: skimage_deprecation: Function ``watershed`` is deprecated and will be removed in version 0.19. Use ``skimage.segmentation.watershed`` instead.\n",
      "  def watershed(image, markers=None, connectivity=1, offset=None, mask=None,\n"
     ]
    },
    {
     "name": "stdout",
     "output_type": "stream",
     "text": [
      "WARNING:tensorflow:No training configuration found in save file, so the model was *not* compiled. Compile it manually.\n"
     ]
    },
    {
     "name": "stderr",
     "output_type": "stream",
     "text": [
      "WARNING:tensorflow:No training configuration found in save file, so the model was *not* compiled. Compile it manually.\n",
      "/Users/ferris/opt/anaconda3/envs/imcpq_env3/lib/python3.8/site-packages/skimage/morphology/_deprecated.py:5: skimage_deprecation: Function ``watershed`` is deprecated and will be removed in version 0.19. Use ``skimage.segmentation.watershed`` instead.\n",
      "  def watershed(image, markers=None, connectivity=1, offset=None, mask=None,\n"
     ]
    },
    {
     "name": "stdout",
     "output_type": "stream",
     "text": [
      "WARNING:tensorflow:No training configuration found in save file, so the model was *not* compiled. Compile it manually.\n"
     ]
    },
    {
     "name": "stderr",
     "output_type": "stream",
     "text": [
      "WARNING:tensorflow:No training configuration found in save file, so the model was *not* compiled. Compile it manually.\n",
      "/Users/ferris/opt/anaconda3/envs/imcpq_env3/lib/python3.8/site-packages/skimage/morphology/_deprecated.py:5: skimage_deprecation: Function ``watershed`` is deprecated and will be removed in version 0.19. Use ``skimage.segmentation.watershed`` instead.\n",
      "  def watershed(image, markers=None, connectivity=1, offset=None, mask=None,\n"
     ]
    },
    {
     "name": "stdout",
     "output_type": "stream",
     "text": [
      "WARNING:tensorflow:No training configuration found in save file, so the model was *not* compiled. Compile it manually.\n"
     ]
    },
    {
     "name": "stderr",
     "output_type": "stream",
     "text": [
      "WARNING:tensorflow:No training configuration found in save file, so the model was *not* compiled. Compile it manually.\n",
      "/Users/ferris/opt/anaconda3/envs/imcpq_env3/lib/python3.8/site-packages/skimage/morphology/_deprecated.py:5: skimage_deprecation: Function ``watershed`` is deprecated and will be removed in version 0.19. Use ``skimage.segmentation.watershed`` instead.\n",
      "  def watershed(image, markers=None, connectivity=1, offset=None, mask=None,\n"
     ]
    },
    {
     "name": "stdout",
     "output_type": "stream",
     "text": [
      "WARNING:tensorflow:No training configuration found in save file, so the model was *not* compiled. Compile it manually.\n"
     ]
    },
    {
     "name": "stderr",
     "output_type": "stream",
     "text": [
      "WARNING:tensorflow:No training configuration found in save file, so the model was *not* compiled. Compile it manually.\n",
      "/Users/ferris/opt/anaconda3/envs/imcpq_env3/lib/python3.8/site-packages/skimage/morphology/_deprecated.py:5: skimage_deprecation: Function ``watershed`` is deprecated and will be removed in version 0.19. Use ``skimage.segmentation.watershed`` instead.\n",
      "  def watershed(image, markers=None, connectivity=1, offset=None, mask=None,\n"
     ]
    },
    {
     "name": "stdout",
     "output_type": "stream",
     "text": [
      "WARNING:tensorflow:No training configuration found in save file, so the model was *not* compiled. Compile it manually.\n"
     ]
    },
    {
     "name": "stderr",
     "output_type": "stream",
     "text": [
      "WARNING:tensorflow:No training configuration found in save file, so the model was *not* compiled. Compile it manually.\n",
      "/Users/ferris/opt/anaconda3/envs/imcpq_env3/lib/python3.8/site-packages/skimage/morphology/_deprecated.py:5: skimage_deprecation: Function ``watershed`` is deprecated and will be removed in version 0.19. Use ``skimage.segmentation.watershed`` instead.\n",
      "  def watershed(image, markers=None, connectivity=1, offset=None, mask=None,\n"
     ]
    },
    {
     "name": "stdout",
     "output_type": "stream",
     "text": [
      "WARNING:tensorflow:No training configuration found in save file, so the model was *not* compiled. Compile it manually.\n"
     ]
    },
    {
     "name": "stderr",
     "output_type": "stream",
     "text": [
      "WARNING:tensorflow:No training configuration found in save file, so the model was *not* compiled. Compile it manually.\n",
      "/Users/ferris/opt/anaconda3/envs/imcpq_env3/lib/python3.8/site-packages/skimage/morphology/_deprecated.py:5: skimage_deprecation: Function ``watershed`` is deprecated and will be removed in version 0.19. Use ``skimage.segmentation.watershed`` instead.\n",
      "  def watershed(image, markers=None, connectivity=1, offset=None, mask=None,\n"
     ]
    },
    {
     "name": "stdout",
     "output_type": "stream",
     "text": [
      "WARNING:tensorflow:No training configuration found in save file, so the model was *not* compiled. Compile it manually.\n"
     ]
    },
    {
     "name": "stderr",
     "output_type": "stream",
     "text": [
      "WARNING:tensorflow:No training configuration found in save file, so the model was *not* compiled. Compile it manually.\n",
      "/Users/ferris/opt/anaconda3/envs/imcpq_env3/lib/python3.8/site-packages/skimage/morphology/_deprecated.py:5: skimage_deprecation: Function ``watershed`` is deprecated and will be removed in version 0.19. Use ``skimage.segmentation.watershed`` instead.\n",
      "  def watershed(image, markers=None, connectivity=1, offset=None, mask=None,\n"
     ]
    },
    {
     "name": "stdout",
     "output_type": "stream",
     "text": [
      "WARNING:tensorflow:No training configuration found in save file, so the model was *not* compiled. Compile it manually.\n"
     ]
    },
    {
     "name": "stderr",
     "output_type": "stream",
     "text": [
      "WARNING:tensorflow:No training configuration found in save file, so the model was *not* compiled. Compile it manually.\n",
      "/Users/ferris/opt/anaconda3/envs/imcpq_env3/lib/python3.8/site-packages/skimage/morphology/_deprecated.py:5: skimage_deprecation: Function ``watershed`` is deprecated and will be removed in version 0.19. Use ``skimage.segmentation.watershed`` instead.\n",
      "  def watershed(image, markers=None, connectivity=1, offset=None, mask=None,\n"
     ]
    },
    {
     "name": "stdout",
     "output_type": "stream",
     "text": [
      "WARNING:tensorflow:No training configuration found in save file, so the model was *not* compiled. Compile it manually.\n"
     ]
    },
    {
     "name": "stderr",
     "output_type": "stream",
     "text": [
      "WARNING:tensorflow:No training configuration found in save file, so the model was *not* compiled. Compile it manually.\n",
      "/Users/ferris/opt/anaconda3/envs/imcpq_env3/lib/python3.8/site-packages/skimage/morphology/_deprecated.py:5: skimage_deprecation: Function ``watershed`` is deprecated and will be removed in version 0.19. Use ``skimage.segmentation.watershed`` instead.\n",
      "  def watershed(image, markers=None, connectivity=1, offset=None, mask=None,\n"
     ]
    },
    {
     "name": "stdout",
     "output_type": "stream",
     "text": [
      "WARNING:tensorflow:No training configuration found in save file, so the model was *not* compiled. Compile it manually.\n"
     ]
    },
    {
     "name": "stderr",
     "output_type": "stream",
     "text": [
      "WARNING:tensorflow:No training configuration found in save file, so the model was *not* compiled. Compile it manually.\n",
      "/Users/ferris/opt/anaconda3/envs/imcpq_env3/lib/python3.8/site-packages/skimage/morphology/_deprecated.py:5: skimage_deprecation: Function ``watershed`` is deprecated and will be removed in version 0.19. Use ``skimage.segmentation.watershed`` instead.\n",
      "  def watershed(image, markers=None, connectivity=1, offset=None, mask=None,\n"
     ]
    },
    {
     "name": "stdout",
     "output_type": "stream",
     "text": [
      "WARNING:tensorflow:No training configuration found in save file, so the model was *not* compiled. Compile it manually.\n"
     ]
    },
    {
     "name": "stderr",
     "output_type": "stream",
     "text": [
      "WARNING:tensorflow:No training configuration found in save file, so the model was *not* compiled. Compile it manually.\n",
      "/Users/ferris/opt/anaconda3/envs/imcpq_env3/lib/python3.8/site-packages/skimage/morphology/_deprecated.py:5: skimage_deprecation: Function ``watershed`` is deprecated and will be removed in version 0.19. Use ``skimage.segmentation.watershed`` instead.\n",
      "  def watershed(image, markers=None, connectivity=1, offset=None, mask=None,\n"
     ]
    },
    {
     "name": "stdout",
     "output_type": "stream",
     "text": [
      "WARNING:tensorflow:No training configuration found in save file, so the model was *not* compiled. Compile it manually.\n"
     ]
    },
    {
     "name": "stderr",
     "output_type": "stream",
     "text": [
      "WARNING:tensorflow:No training configuration found in save file, so the model was *not* compiled. Compile it manually.\n",
      "/Users/ferris/opt/anaconda3/envs/imcpq_env3/lib/python3.8/site-packages/skimage/morphology/_deprecated.py:5: skimage_deprecation: Function ``watershed`` is deprecated and will be removed in version 0.19. Use ``skimage.segmentation.watershed`` instead.\n",
      "  def watershed(image, markers=None, connectivity=1, offset=None, mask=None,\n"
     ]
    },
    {
     "name": "stdout",
     "output_type": "stream",
     "text": [
      "WARNING:tensorflow:No training configuration found in save file, so the model was *not* compiled. Compile it manually.\n"
     ]
    },
    {
     "name": "stderr",
     "output_type": "stream",
     "text": [
      "WARNING:tensorflow:No training configuration found in save file, so the model was *not* compiled. Compile it manually.\n",
      "/Users/ferris/opt/anaconda3/envs/imcpq_env3/lib/python3.8/site-packages/skimage/morphology/_deprecated.py:5: skimage_deprecation: Function ``watershed`` is deprecated and will be removed in version 0.19. Use ``skimage.segmentation.watershed`` instead.\n",
      "  def watershed(image, markers=None, connectivity=1, offset=None, mask=None,\n"
     ]
    },
    {
     "name": "stdout",
     "output_type": "stream",
     "text": [
      "WARNING:tensorflow:No training configuration found in save file, so the model was *not* compiled. Compile it manually.\n"
     ]
    },
    {
     "name": "stderr",
     "output_type": "stream",
     "text": [
      "WARNING:tensorflow:No training configuration found in save file, so the model was *not* compiled. Compile it manually.\n",
      "/Users/ferris/opt/anaconda3/envs/imcpq_env3/lib/python3.8/site-packages/skimage/morphology/_deprecated.py:5: skimage_deprecation: Function ``watershed`` is deprecated and will be removed in version 0.19. Use ``skimage.segmentation.watershed`` instead.\n",
      "  def watershed(image, markers=None, connectivity=1, offset=None, mask=None,\n"
     ]
    },
    {
     "name": "stdout",
     "output_type": "stream",
     "text": [
      "WARNING:tensorflow:No training configuration found in save file, so the model was *not* compiled. Compile it manually.\n"
     ]
    },
    {
     "name": "stderr",
     "output_type": "stream",
     "text": [
      "WARNING:tensorflow:No training configuration found in save file, so the model was *not* compiled. Compile it manually.\n",
      "/Users/ferris/opt/anaconda3/envs/imcpq_env3/lib/python3.8/site-packages/skimage/morphology/_deprecated.py:5: skimage_deprecation: Function ``watershed`` is deprecated and will be removed in version 0.19. Use ``skimage.segmentation.watershed`` instead.\n",
      "  def watershed(image, markers=None, connectivity=1, offset=None, mask=None,\n"
     ]
    },
    {
     "name": "stdout",
     "output_type": "stream",
     "text": [
      "WARNING:tensorflow:No training configuration found in save file, so the model was *not* compiled. Compile it manually.\n"
     ]
    },
    {
     "name": "stderr",
     "output_type": "stream",
     "text": [
      "WARNING:tensorflow:No training configuration found in save file, so the model was *not* compiled. Compile it manually.\n",
      "/Users/ferris/opt/anaconda3/envs/imcpq_env3/lib/python3.8/site-packages/skimage/morphology/_deprecated.py:5: skimage_deprecation: Function ``watershed`` is deprecated and will be removed in version 0.19. Use ``skimage.segmentation.watershed`` instead.\n",
      "  def watershed(image, markers=None, connectivity=1, offset=None, mask=None,\n"
     ]
    },
    {
     "name": "stdout",
     "output_type": "stream",
     "text": [
      "WARNING:tensorflow:No training configuration found in save file, so the model was *not* compiled. Compile it manually.\n"
     ]
    },
    {
     "name": "stderr",
     "output_type": "stream",
     "text": [
      "WARNING:tensorflow:No training configuration found in save file, so the model was *not* compiled. Compile it manually.\n",
      "/Users/ferris/opt/anaconda3/envs/imcpq_env3/lib/python3.8/site-packages/skimage/morphology/_deprecated.py:5: skimage_deprecation: Function ``watershed`` is deprecated and will be removed in version 0.19. Use ``skimage.segmentation.watershed`` instead.\n",
      "  def watershed(image, markers=None, connectivity=1, offset=None, mask=None,\n"
     ]
    },
    {
     "name": "stdout",
     "output_type": "stream",
     "text": [
      "WARNING:tensorflow:No training configuration found in save file, so the model was *not* compiled. Compile it manually.\n"
     ]
    },
    {
     "name": "stderr",
     "output_type": "stream",
     "text": [
      "WARNING:tensorflow:No training configuration found in save file, so the model was *not* compiled. Compile it manually.\n",
      "/Users/ferris/opt/anaconda3/envs/imcpq_env3/lib/python3.8/site-packages/skimage/morphology/_deprecated.py:5: skimage_deprecation: Function ``watershed`` is deprecated and will be removed in version 0.19. Use ``skimage.segmentation.watershed`` instead.\n",
      "  def watershed(image, markers=None, connectivity=1, offset=None, mask=None,\n"
     ]
    },
    {
     "name": "stdout",
     "output_type": "stream",
     "text": [
      "WARNING:tensorflow:No training configuration found in save file, so the model was *not* compiled. Compile it manually.\n"
     ]
    },
    {
     "name": "stderr",
     "output_type": "stream",
     "text": [
      "WARNING:tensorflow:No training configuration found in save file, so the model was *not* compiled. Compile it manually.\n",
      "/Users/ferris/opt/anaconda3/envs/imcpq_env3/lib/python3.8/site-packages/skimage/morphology/_deprecated.py:5: skimage_deprecation: Function ``watershed`` is deprecated and will be removed in version 0.19. Use ``skimage.segmentation.watershed`` instead.\n",
      "  def watershed(image, markers=None, connectivity=1, offset=None, mask=None,\n"
     ]
    },
    {
     "name": "stdout",
     "output_type": "stream",
     "text": [
      "WARNING:tensorflow:No training configuration found in save file, so the model was *not* compiled. Compile it manually.\n"
     ]
    },
    {
     "name": "stderr",
     "output_type": "stream",
     "text": [
      "WARNING:tensorflow:No training configuration found in save file, so the model was *not* compiled. Compile it manually.\n",
      "/Users/ferris/opt/anaconda3/envs/imcpq_env3/lib/python3.8/site-packages/skimage/morphology/_deprecated.py:5: skimage_deprecation: Function ``watershed`` is deprecated and will be removed in version 0.19. Use ``skimage.segmentation.watershed`` instead.\n",
      "  def watershed(image, markers=None, connectivity=1, offset=None, mask=None,\n"
     ]
    },
    {
     "name": "stdout",
     "output_type": "stream",
     "text": [
      "WARNING:tensorflow:No training configuration found in save file, so the model was *not* compiled. Compile it manually.\n"
     ]
    },
    {
     "name": "stderr",
     "output_type": "stream",
     "text": [
      "WARNING:tensorflow:No training configuration found in save file, so the model was *not* compiled. Compile it manually.\n"
     ]
    },
    {
     "name": "stdout",
     "output_type": "stream",
     "text": [
      "WARNING:tensorflow:5 out of the last 17 calls to <function Model.make_predict_function.<locals>.predict_function at 0x7f85981815e0> triggered tf.function retracing. Tracing is expensive and the excessive number of tracings could be due to (1) creating @tf.function repeatedly in a loop, (2) passing tensors with different shapes, (3) passing Python objects instead of tensors. For (1), please define your @tf.function outside of the loop. For (2), @tf.function has experimental_relax_shapes=True option that relaxes argument shapes that can avoid unnecessary retracing. For (3), please refer to https://www.tensorflow.org/guide/function#controlling_retracing and https://www.tensorflow.org/api_docs/python/tf/function for  more details.\n"
     ]
    },
    {
     "name": "stderr",
     "output_type": "stream",
     "text": [
      "WARNING:tensorflow:5 out of the last 17 calls to <function Model.make_predict_function.<locals>.predict_function at 0x7f85981815e0> triggered tf.function retracing. Tracing is expensive and the excessive number of tracings could be due to (1) creating @tf.function repeatedly in a loop, (2) passing tensors with different shapes, (3) passing Python objects instead of tensors. For (1), please define your @tf.function outside of the loop. For (2), @tf.function has experimental_relax_shapes=True option that relaxes argument shapes that can avoid unnecessary retracing. For (3), please refer to https://www.tensorflow.org/guide/function#controlling_retracing and https://www.tensorflow.org/api_docs/python/tf/function for  more details.\n",
      "/Users/ferris/opt/anaconda3/envs/imcpq_env3/lib/python3.8/site-packages/skimage/morphology/_deprecated.py:5: skimage_deprecation: Function ``watershed`` is deprecated and will be removed in version 0.19. Use ``skimage.segmentation.watershed`` instead.\n",
      "  def watershed(image, markers=None, connectivity=1, offset=None, mask=None,\n"
     ]
    },
    {
     "name": "stdout",
     "output_type": "stream",
     "text": [
      "WARNING:tensorflow:No training configuration found in save file, so the model was *not* compiled. Compile it manually.\n"
     ]
    },
    {
     "name": "stderr",
     "output_type": "stream",
     "text": [
      "WARNING:tensorflow:No training configuration found in save file, so the model was *not* compiled. Compile it manually.\n"
     ]
    },
    {
     "name": "stdout",
     "output_type": "stream",
     "text": [
      "WARNING:tensorflow:5 out of the last 17 calls to <function Model.make_predict_function.<locals>.predict_function at 0x7f84804748b0> triggered tf.function retracing. Tracing is expensive and the excessive number of tracings could be due to (1) creating @tf.function repeatedly in a loop, (2) passing tensors with different shapes, (3) passing Python objects instead of tensors. For (1), please define your @tf.function outside of the loop. For (2), @tf.function has experimental_relax_shapes=True option that relaxes argument shapes that can avoid unnecessary retracing. For (3), please refer to https://www.tensorflow.org/guide/function#controlling_retracing and https://www.tensorflow.org/api_docs/python/tf/function for  more details.\n"
     ]
    },
    {
     "name": "stderr",
     "output_type": "stream",
     "text": [
      "WARNING:tensorflow:5 out of the last 17 calls to <function Model.make_predict_function.<locals>.predict_function at 0x7f84804748b0> triggered tf.function retracing. Tracing is expensive and the excessive number of tracings could be due to (1) creating @tf.function repeatedly in a loop, (2) passing tensors with different shapes, (3) passing Python objects instead of tensors. For (1), please define your @tf.function outside of the loop. For (2), @tf.function has experimental_relax_shapes=True option that relaxes argument shapes that can avoid unnecessary retracing. For (3), please refer to https://www.tensorflow.org/guide/function#controlling_retracing and https://www.tensorflow.org/api_docs/python/tf/function for  more details.\n",
      "/Users/ferris/opt/anaconda3/envs/imcpq_env3/lib/python3.8/site-packages/skimage/morphology/_deprecated.py:5: skimage_deprecation: Function ``watershed`` is deprecated and will be removed in version 0.19. Use ``skimage.segmentation.watershed`` instead.\n",
      "  def watershed(image, markers=None, connectivity=1, offset=None, mask=None,\n"
     ]
    },
    {
     "name": "stdout",
     "output_type": "stream",
     "text": [
      "WARNING:tensorflow:No training configuration found in save file, so the model was *not* compiled. Compile it manually.\n"
     ]
    },
    {
     "name": "stderr",
     "output_type": "stream",
     "text": [
      "WARNING:tensorflow:No training configuration found in save file, so the model was *not* compiled. Compile it manually.\n"
     ]
    },
    {
     "name": "stdout",
     "output_type": "stream",
     "text": [
      "WARNING:tensorflow:5 out of the last 11 calls to <function Model.make_predict_function.<locals>.predict_function at 0x7f85b542f550> triggered tf.function retracing. Tracing is expensive and the excessive number of tracings could be due to (1) creating @tf.function repeatedly in a loop, (2) passing tensors with different shapes, (3) passing Python objects instead of tensors. For (1), please define your @tf.function outside of the loop. For (2), @tf.function has experimental_relax_shapes=True option that relaxes argument shapes that can avoid unnecessary retracing. For (3), please refer to https://www.tensorflow.org/guide/function#controlling_retracing and https://www.tensorflow.org/api_docs/python/tf/function for  more details.\n"
     ]
    },
    {
     "name": "stderr",
     "output_type": "stream",
     "text": [
      "WARNING:tensorflow:5 out of the last 11 calls to <function Model.make_predict_function.<locals>.predict_function at 0x7f85b542f550> triggered tf.function retracing. Tracing is expensive and the excessive number of tracings could be due to (1) creating @tf.function repeatedly in a loop, (2) passing tensors with different shapes, (3) passing Python objects instead of tensors. For (1), please define your @tf.function outside of the loop. For (2), @tf.function has experimental_relax_shapes=True option that relaxes argument shapes that can avoid unnecessary retracing. For (3), please refer to https://www.tensorflow.org/guide/function#controlling_retracing and https://www.tensorflow.org/api_docs/python/tf/function for  more details.\n",
      "/Users/ferris/opt/anaconda3/envs/imcpq_env3/lib/python3.8/site-packages/skimage/morphology/_deprecated.py:5: skimage_deprecation: Function ``watershed`` is deprecated and will be removed in version 0.19. Use ``skimage.segmentation.watershed`` instead.\n",
      "  def watershed(image, markers=None, connectivity=1, offset=None, mask=None,\n"
     ]
    },
    {
     "name": "stdout",
     "output_type": "stream",
     "text": [
      "WARNING:tensorflow:No training configuration found in save file, so the model was *not* compiled. Compile it manually.\n"
     ]
    },
    {
     "name": "stderr",
     "output_type": "stream",
     "text": [
      "WARNING:tensorflow:No training configuration found in save file, so the model was *not* compiled. Compile it manually.\n",
      "/Users/ferris/opt/anaconda3/envs/imcpq_env3/lib/python3.8/site-packages/skimage/morphology/_deprecated.py:5: skimage_deprecation: Function ``watershed`` is deprecated and will be removed in version 0.19. Use ``skimage.segmentation.watershed`` instead.\n",
      "  def watershed(image, markers=None, connectivity=1, offset=None, mask=None,\n"
     ]
    },
    {
     "name": "stdout",
     "output_type": "stream",
     "text": [
      "WARNING:tensorflow:No training configuration found in save file, so the model was *not* compiled. Compile it manually.\n"
     ]
    },
    {
     "name": "stderr",
     "output_type": "stream",
     "text": [
      "WARNING:tensorflow:No training configuration found in save file, so the model was *not* compiled. Compile it manually.\n",
      "/Users/ferris/opt/anaconda3/envs/imcpq_env3/lib/python3.8/site-packages/skimage/morphology/_deprecated.py:5: skimage_deprecation: Function ``watershed`` is deprecated and will be removed in version 0.19. Use ``skimage.segmentation.watershed`` instead.\n",
      "  def watershed(image, markers=None, connectivity=1, offset=None, mask=None,\n"
     ]
    },
    {
     "name": "stdout",
     "output_type": "stream",
     "text": [
      "WARNING:tensorflow:No training configuration found in save file, so the model was *not* compiled. Compile it manually.\n"
     ]
    },
    {
     "name": "stderr",
     "output_type": "stream",
     "text": [
      "WARNING:tensorflow:No training configuration found in save file, so the model was *not* compiled. Compile it manually.\n",
      "/Users/ferris/opt/anaconda3/envs/imcpq_env3/lib/python3.8/site-packages/skimage/morphology/_deprecated.py:5: skimage_deprecation: Function ``watershed`` is deprecated and will be removed in version 0.19. Use ``skimage.segmentation.watershed`` instead.\n",
      "  def watershed(image, markers=None, connectivity=1, offset=None, mask=None,\n"
     ]
    },
    {
     "name": "stdout",
     "output_type": "stream",
     "text": [
      "WARNING:tensorflow:No training configuration found in save file, so the model was *not* compiled. Compile it manually.\n"
     ]
    },
    {
     "name": "stderr",
     "output_type": "stream",
     "text": [
      "WARNING:tensorflow:No training configuration found in save file, so the model was *not* compiled. Compile it manually.\n",
      "/Users/ferris/opt/anaconda3/envs/imcpq_env3/lib/python3.8/site-packages/skimage/morphology/_deprecated.py:5: skimage_deprecation: Function ``watershed`` is deprecated and will be removed in version 0.19. Use ``skimage.segmentation.watershed`` instead.\n",
      "  def watershed(image, markers=None, connectivity=1, offset=None, mask=None,\n"
     ]
    },
    {
     "name": "stdout",
     "output_type": "stream",
     "text": [
      "WARNING:tensorflow:No training configuration found in save file, so the model was *not* compiled. Compile it manually.\n"
     ]
    },
    {
     "name": "stderr",
     "output_type": "stream",
     "text": [
      "WARNING:tensorflow:No training configuration found in save file, so the model was *not* compiled. Compile it manually.\n",
      "/Users/ferris/opt/anaconda3/envs/imcpq_env3/lib/python3.8/site-packages/skimage/morphology/_deprecated.py:5: skimage_deprecation: Function ``watershed`` is deprecated and will be removed in version 0.19. Use ``skimage.segmentation.watershed`` instead.\n",
      "  def watershed(image, markers=None, connectivity=1, offset=None, mask=None,\n"
     ]
    },
    {
     "name": "stdout",
     "output_type": "stream",
     "text": [
      "WARNING:tensorflow:No training configuration found in save file, so the model was *not* compiled. Compile it manually.\n"
     ]
    },
    {
     "name": "stderr",
     "output_type": "stream",
     "text": [
      "WARNING:tensorflow:No training configuration found in save file, so the model was *not* compiled. Compile it manually.\n",
      "/Users/ferris/opt/anaconda3/envs/imcpq_env3/lib/python3.8/site-packages/skimage/morphology/_deprecated.py:5: skimage_deprecation: Function ``watershed`` is deprecated and will be removed in version 0.19. Use ``skimage.segmentation.watershed`` instead.\n",
      "  def watershed(image, markers=None, connectivity=1, offset=None, mask=None,\n"
     ]
    },
    {
     "name": "stdout",
     "output_type": "stream",
     "text": [
      "WARNING:tensorflow:No training configuration found in save file, so the model was *not* compiled. Compile it manually.\n"
     ]
    },
    {
     "name": "stderr",
     "output_type": "stream",
     "text": [
      "WARNING:tensorflow:No training configuration found in save file, so the model was *not* compiled. Compile it manually.\n",
      "/Users/ferris/opt/anaconda3/envs/imcpq_env3/lib/python3.8/site-packages/skimage/morphology/_deprecated.py:5: skimage_deprecation: Function ``watershed`` is deprecated and will be removed in version 0.19. Use ``skimage.segmentation.watershed`` instead.\n",
      "  def watershed(image, markers=None, connectivity=1, offset=None, mask=None,\n"
     ]
    },
    {
     "name": "stdout",
     "output_type": "stream",
     "text": [
      "WARNING:tensorflow:No training configuration found in save file, so the model was *not* compiled. Compile it manually.\n"
     ]
    },
    {
     "name": "stderr",
     "output_type": "stream",
     "text": [
      "WARNING:tensorflow:No training configuration found in save file, so the model was *not* compiled. Compile it manually.\n",
      "/Users/ferris/opt/anaconda3/envs/imcpq_env3/lib/python3.8/site-packages/skimage/morphology/_deprecated.py:5: skimage_deprecation: Function ``watershed`` is deprecated and will be removed in version 0.19. Use ``skimage.segmentation.watershed`` instead.\n",
      "  def watershed(image, markers=None, connectivity=1, offset=None, mask=None,\n"
     ]
    },
    {
     "name": "stdout",
     "output_type": "stream",
     "text": [
      "WARNING:tensorflow:No training configuration found in save file, so the model was *not* compiled. Compile it manually.\n"
     ]
    },
    {
     "name": "stderr",
     "output_type": "stream",
     "text": [
      "WARNING:tensorflow:No training configuration found in save file, so the model was *not* compiled. Compile it manually.\n",
      "/Users/ferris/opt/anaconda3/envs/imcpq_env3/lib/python3.8/site-packages/skimage/morphology/_deprecated.py:5: skimage_deprecation: Function ``watershed`` is deprecated and will be removed in version 0.19. Use ``skimage.segmentation.watershed`` instead.\n",
      "  def watershed(image, markers=None, connectivity=1, offset=None, mask=None,\n"
     ]
    },
    {
     "name": "stdout",
     "output_type": "stream",
     "text": [
      "WARNING:tensorflow:No training configuration found in save file, so the model was *not* compiled. Compile it manually.\n"
     ]
    },
    {
     "name": "stderr",
     "output_type": "stream",
     "text": [
      "WARNING:tensorflow:No training configuration found in save file, so the model was *not* compiled. Compile it manually.\n",
      "/Users/ferris/opt/anaconda3/envs/imcpq_env3/lib/python3.8/site-packages/skimage/morphology/_deprecated.py:5: skimage_deprecation: Function ``watershed`` is deprecated and will be removed in version 0.19. Use ``skimage.segmentation.watershed`` instead.\n",
      "  def watershed(image, markers=None, connectivity=1, offset=None, mask=None,\n"
     ]
    },
    {
     "name": "stdout",
     "output_type": "stream",
     "text": [
      "WARNING:tensorflow:No training configuration found in save file, so the model was *not* compiled. Compile it manually.\n"
     ]
    },
    {
     "name": "stderr",
     "output_type": "stream",
     "text": [
      "WARNING:tensorflow:No training configuration found in save file, so the model was *not* compiled. Compile it manually.\n",
      "/Users/ferris/opt/anaconda3/envs/imcpq_env3/lib/python3.8/site-packages/skimage/morphology/_deprecated.py:5: skimage_deprecation: Function ``watershed`` is deprecated and will be removed in version 0.19. Use ``skimage.segmentation.watershed`` instead.\n",
      "  def watershed(image, markers=None, connectivity=1, offset=None, mask=None,\n"
     ]
    },
    {
     "name": "stdout",
     "output_type": "stream",
     "text": [
      "WARNING:tensorflow:No training configuration found in save file, so the model was *not* compiled. Compile it manually.\n"
     ]
    },
    {
     "name": "stderr",
     "output_type": "stream",
     "text": [
      "WARNING:tensorflow:No training configuration found in save file, so the model was *not* compiled. Compile it manually.\n",
      "/Users/ferris/opt/anaconda3/envs/imcpq_env3/lib/python3.8/site-packages/skimage/morphology/_deprecated.py:5: skimage_deprecation: Function ``watershed`` is deprecated and will be removed in version 0.19. Use ``skimage.segmentation.watershed`` instead.\n",
      "  def watershed(image, markers=None, connectivity=1, offset=None, mask=None,\n"
     ]
    },
    {
     "name": "stdout",
     "output_type": "stream",
     "text": [
      "WARNING:tensorflow:No training configuration found in save file, so the model was *not* compiled. Compile it manually.\n"
     ]
    },
    {
     "name": "stderr",
     "output_type": "stream",
     "text": [
      "WARNING:tensorflow:No training configuration found in save file, so the model was *not* compiled. Compile it manually.\n",
      "/Users/ferris/opt/anaconda3/envs/imcpq_env3/lib/python3.8/site-packages/skimage/morphology/_deprecated.py:5: skimage_deprecation: Function ``watershed`` is deprecated and will be removed in version 0.19. Use ``skimage.segmentation.watershed`` instead.\n",
      "  def watershed(image, markers=None, connectivity=1, offset=None, mask=None,\n"
     ]
    },
    {
     "name": "stdout",
     "output_type": "stream",
     "text": [
      "WARNING:tensorflow:No training configuration found in save file, so the model was *not* compiled. Compile it manually.\n"
     ]
    },
    {
     "name": "stderr",
     "output_type": "stream",
     "text": [
      "WARNING:tensorflow:No training configuration found in save file, so the model was *not* compiled. Compile it manually.\n",
      "/Users/ferris/opt/anaconda3/envs/imcpq_env3/lib/python3.8/site-packages/skimage/morphology/_deprecated.py:5: skimage_deprecation: Function ``watershed`` is deprecated and will be removed in version 0.19. Use ``skimage.segmentation.watershed`` instead.\n",
      "  def watershed(image, markers=None, connectivity=1, offset=None, mask=None,\n"
     ]
    },
    {
     "name": "stdout",
     "output_type": "stream",
     "text": [
      "WARNING:tensorflow:No training configuration found in save file, so the model was *not* compiled. Compile it manually.\n"
     ]
    },
    {
     "name": "stderr",
     "output_type": "stream",
     "text": [
      "WARNING:tensorflow:No training configuration found in save file, so the model was *not* compiled. Compile it manually.\n",
      "/Users/ferris/opt/anaconda3/envs/imcpq_env3/lib/python3.8/site-packages/skimage/morphology/_deprecated.py:5: skimage_deprecation: Function ``watershed`` is deprecated and will be removed in version 0.19. Use ``skimage.segmentation.watershed`` instead.\n",
      "  def watershed(image, markers=None, connectivity=1, offset=None, mask=None,\n"
     ]
    },
    {
     "name": "stdout",
     "output_type": "stream",
     "text": [
      "WARNING:tensorflow:No training configuration found in save file, so the model was *not* compiled. Compile it manually.\n"
     ]
    },
    {
     "name": "stderr",
     "output_type": "stream",
     "text": [
      "WARNING:tensorflow:No training configuration found in save file, so the model was *not* compiled. Compile it manually.\n",
      "/Users/ferris/opt/anaconda3/envs/imcpq_env3/lib/python3.8/site-packages/skimage/morphology/_deprecated.py:5: skimage_deprecation: Function ``watershed`` is deprecated and will be removed in version 0.19. Use ``skimage.segmentation.watershed`` instead.\n",
      "  def watershed(image, markers=None, connectivity=1, offset=None, mask=None,\n"
     ]
    },
    {
     "name": "stdout",
     "output_type": "stream",
     "text": [
      "WARNING:tensorflow:No training configuration found in save file, so the model was *not* compiled. Compile it manually.\n"
     ]
    },
    {
     "name": "stderr",
     "output_type": "stream",
     "text": [
      "WARNING:tensorflow:No training configuration found in save file, so the model was *not* compiled. Compile it manually.\n",
      "/Users/ferris/opt/anaconda3/envs/imcpq_env3/lib/python3.8/site-packages/skimage/morphology/_deprecated.py:5: skimage_deprecation: Function ``watershed`` is deprecated and will be removed in version 0.19. Use ``skimage.segmentation.watershed`` instead.\n",
      "  def watershed(image, markers=None, connectivity=1, offset=None, mask=None,\n"
     ]
    },
    {
     "name": "stdout",
     "output_type": "stream",
     "text": [
      "WARNING:tensorflow:No training configuration found in save file, so the model was *not* compiled. Compile it manually.\n"
     ]
    },
    {
     "name": "stderr",
     "output_type": "stream",
     "text": [
      "WARNING:tensorflow:No training configuration found in save file, so the model was *not* compiled. Compile it manually.\n",
      "/Users/ferris/opt/anaconda3/envs/imcpq_env3/lib/python3.8/site-packages/skimage/morphology/_deprecated.py:5: skimage_deprecation: Function ``watershed`` is deprecated and will be removed in version 0.19. Use ``skimage.segmentation.watershed`` instead.\n",
      "  def watershed(image, markers=None, connectivity=1, offset=None, mask=None,\n"
     ]
    },
    {
     "name": "stdout",
     "output_type": "stream",
     "text": [
      "WARNING:tensorflow:No training configuration found in save file, so the model was *not* compiled. Compile it manually.\n"
     ]
    },
    {
     "name": "stderr",
     "output_type": "stream",
     "text": [
      "WARNING:tensorflow:No training configuration found in save file, so the model was *not* compiled. Compile it manually.\n",
      "/Users/ferris/opt/anaconda3/envs/imcpq_env3/lib/python3.8/site-packages/skimage/morphology/_deprecated.py:5: skimage_deprecation: Function ``watershed`` is deprecated and will be removed in version 0.19. Use ``skimage.segmentation.watershed`` instead.\n",
      "  def watershed(image, markers=None, connectivity=1, offset=None, mask=None,\n"
     ]
    },
    {
     "name": "stdout",
     "output_type": "stream",
     "text": [
      "WARNING:tensorflow:No training configuration found in save file, so the model was *not* compiled. Compile it manually.\n"
     ]
    },
    {
     "name": "stderr",
     "output_type": "stream",
     "text": [
      "WARNING:tensorflow:No training configuration found in save file, so the model was *not* compiled. Compile it manually.\n",
      "/Users/ferris/opt/anaconda3/envs/imcpq_env3/lib/python3.8/site-packages/skimage/morphology/_deprecated.py:5: skimage_deprecation: Function ``watershed`` is deprecated and will be removed in version 0.19. Use ``skimage.segmentation.watershed`` instead.\n",
      "  def watershed(image, markers=None, connectivity=1, offset=None, mask=None,\n"
     ]
    },
    {
     "name": "stdout",
     "output_type": "stream",
     "text": [
      "WARNING:tensorflow:No training configuration found in save file, so the model was *not* compiled. Compile it manually.\n"
     ]
    },
    {
     "name": "stderr",
     "output_type": "stream",
     "text": [
      "WARNING:tensorflow:No training configuration found in save file, so the model was *not* compiled. Compile it manually.\n",
      "/Users/ferris/opt/anaconda3/envs/imcpq_env3/lib/python3.8/site-packages/skimage/morphology/_deprecated.py:5: skimage_deprecation: Function ``watershed`` is deprecated and will be removed in version 0.19. Use ``skimage.segmentation.watershed`` instead.\n",
      "  def watershed(image, markers=None, connectivity=1, offset=None, mask=None,\n"
     ]
    },
    {
     "name": "stdout",
     "output_type": "stream",
     "text": [
      "WARNING:tensorflow:No training configuration found in save file, so the model was *not* compiled. Compile it manually.\n"
     ]
    },
    {
     "name": "stderr",
     "output_type": "stream",
     "text": [
      "WARNING:tensorflow:No training configuration found in save file, so the model was *not* compiled. Compile it manually.\n",
      "/Users/ferris/opt/anaconda3/envs/imcpq_env3/lib/python3.8/site-packages/skimage/morphology/_deprecated.py:5: skimage_deprecation: Function ``watershed`` is deprecated and will be removed in version 0.19. Use ``skimage.segmentation.watershed`` instead.\n",
      "  def watershed(image, markers=None, connectivity=1, offset=None, mask=None,\n"
     ]
    },
    {
     "name": "stdout",
     "output_type": "stream",
     "text": [
      "WARNING:tensorflow:No training configuration found in save file, so the model was *not* compiled. Compile it manually.\n"
     ]
    },
    {
     "name": "stderr",
     "output_type": "stream",
     "text": [
      "WARNING:tensorflow:No training configuration found in save file, so the model was *not* compiled. Compile it manually.\n",
      "/Users/ferris/opt/anaconda3/envs/imcpq_env3/lib/python3.8/site-packages/skimage/morphology/_deprecated.py:5: skimage_deprecation: Function ``watershed`` is deprecated and will be removed in version 0.19. Use ``skimage.segmentation.watershed`` instead.\n",
      "  def watershed(image, markers=None, connectivity=1, offset=None, mask=None,\n"
     ]
    },
    {
     "name": "stdout",
     "output_type": "stream",
     "text": [
      "WARNING:tensorflow:No training configuration found in save file, so the model was *not* compiled. Compile it manually.\n"
     ]
    },
    {
     "name": "stderr",
     "output_type": "stream",
     "text": [
      "WARNING:tensorflow:No training configuration found in save file, so the model was *not* compiled. Compile it manually.\n",
      "/Users/ferris/opt/anaconda3/envs/imcpq_env3/lib/python3.8/site-packages/skimage/morphology/_deprecated.py:5: skimage_deprecation: Function ``watershed`` is deprecated and will be removed in version 0.19. Use ``skimage.segmentation.watershed`` instead.\n",
      "  def watershed(image, markers=None, connectivity=1, offset=None, mask=None,\n"
     ]
    },
    {
     "name": "stdout",
     "output_type": "stream",
     "text": [
      "WARNING:tensorflow:No training configuration found in save file, so the model was *not* compiled. Compile it manually.\n"
     ]
    },
    {
     "name": "stderr",
     "output_type": "stream",
     "text": [
      "WARNING:tensorflow:No training configuration found in save file, so the model was *not* compiled. Compile it manually.\n",
      "/Users/ferris/opt/anaconda3/envs/imcpq_env3/lib/python3.8/site-packages/skimage/morphology/_deprecated.py:5: skimage_deprecation: Function ``watershed`` is deprecated and will be removed in version 0.19. Use ``skimage.segmentation.watershed`` instead.\n",
      "  def watershed(image, markers=None, connectivity=1, offset=None, mask=None,\n"
     ]
    },
    {
     "name": "stdout",
     "output_type": "stream",
     "text": [
      "WARNING:tensorflow:No training configuration found in save file, so the model was *not* compiled. Compile it manually.\n"
     ]
    },
    {
     "name": "stderr",
     "output_type": "stream",
     "text": [
      "WARNING:tensorflow:No training configuration found in save file, so the model was *not* compiled. Compile it manually.\n",
      "/Users/ferris/opt/anaconda3/envs/imcpq_env3/lib/python3.8/site-packages/skimage/morphology/_deprecated.py:5: skimage_deprecation: Function ``watershed`` is deprecated and will be removed in version 0.19. Use ``skimage.segmentation.watershed`` instead.\n",
      "  def watershed(image, markers=None, connectivity=1, offset=None, mask=None,\n"
     ]
    },
    {
     "name": "stdout",
     "output_type": "stream",
     "text": [
      "WARNING:tensorflow:No training configuration found in save file, so the model was *not* compiled. Compile it manually.\n"
     ]
    },
    {
     "name": "stderr",
     "output_type": "stream",
     "text": [
      "WARNING:tensorflow:No training configuration found in save file, so the model was *not* compiled. Compile it manually.\n",
      "/Users/ferris/opt/anaconda3/envs/imcpq_env3/lib/python3.8/site-packages/skimage/morphology/_deprecated.py:5: skimage_deprecation: Function ``watershed`` is deprecated and will be removed in version 0.19. Use ``skimage.segmentation.watershed`` instead.\n",
      "  def watershed(image, markers=None, connectivity=1, offset=None, mask=None,\n"
     ]
    },
    {
     "name": "stdout",
     "output_type": "stream",
     "text": [
      "WARNING:tensorflow:No training configuration found in save file, so the model was *not* compiled. Compile it manually.\n"
     ]
    },
    {
     "name": "stderr",
     "output_type": "stream",
     "text": [
      "WARNING:tensorflow:No training configuration found in save file, so the model was *not* compiled. Compile it manually.\n",
      "/Users/ferris/opt/anaconda3/envs/imcpq_env3/lib/python3.8/site-packages/skimage/morphology/_deprecated.py:5: skimage_deprecation: Function ``watershed`` is deprecated and will be removed in version 0.19. Use ``skimage.segmentation.watershed`` instead.\n",
      "  def watershed(image, markers=None, connectivity=1, offset=None, mask=None,\n"
     ]
    },
    {
     "name": "stdout",
     "output_type": "stream",
     "text": [
      "WARNING:tensorflow:No training configuration found in save file, so the model was *not* compiled. Compile it manually.\n"
     ]
    },
    {
     "name": "stderr",
     "output_type": "stream",
     "text": [
      "WARNING:tensorflow:No training configuration found in save file, so the model was *not* compiled. Compile it manually.\n",
      "/Users/ferris/opt/anaconda3/envs/imcpq_env3/lib/python3.8/site-packages/skimage/morphology/_deprecated.py:5: skimage_deprecation: Function ``watershed`` is deprecated and will be removed in version 0.19. Use ``skimage.segmentation.watershed`` instead.\n",
      "  def watershed(image, markers=None, connectivity=1, offset=None, mask=None,\n"
     ]
    },
    {
     "name": "stdout",
     "output_type": "stream",
     "text": [
      "WARNING:tensorflow:No training configuration found in save file, so the model was *not* compiled. Compile it manually.\n"
     ]
    },
    {
     "name": "stderr",
     "output_type": "stream",
     "text": [
      "WARNING:tensorflow:No training configuration found in save file, so the model was *not* compiled. Compile it manually.\n",
      "/Users/ferris/opt/anaconda3/envs/imcpq_env3/lib/python3.8/site-packages/skimage/morphology/_deprecated.py:5: skimage_deprecation: Function ``watershed`` is deprecated and will be removed in version 0.19. Use ``skimage.segmentation.watershed`` instead.\n",
      "  def watershed(image, markers=None, connectivity=1, offset=None, mask=None,\n"
     ]
    },
    {
     "name": "stdout",
     "output_type": "stream",
     "text": [
      "WARNING:tensorflow:No training configuration found in save file, so the model was *not* compiled. Compile it manually.\n"
     ]
    },
    {
     "name": "stderr",
     "output_type": "stream",
     "text": [
      "WARNING:tensorflow:No training configuration found in save file, so the model was *not* compiled. Compile it manually.\n",
      "/Users/ferris/opt/anaconda3/envs/imcpq_env3/lib/python3.8/site-packages/skimage/morphology/_deprecated.py:5: skimage_deprecation: Function ``watershed`` is deprecated and will be removed in version 0.19. Use ``skimage.segmentation.watershed`` instead.\n",
      "  def watershed(image, markers=None, connectivity=1, offset=None, mask=None,\n"
     ]
    },
    {
     "name": "stdout",
     "output_type": "stream",
     "text": [
      "WARNING:tensorflow:No training configuration found in save file, so the model was *not* compiled. Compile it manually.\n"
     ]
    },
    {
     "name": "stderr",
     "output_type": "stream",
     "text": [
      "WARNING:tensorflow:No training configuration found in save file, so the model was *not* compiled. Compile it manually.\n",
      "/Users/ferris/opt/anaconda3/envs/imcpq_env3/lib/python3.8/site-packages/skimage/morphology/_deprecated.py:5: skimage_deprecation: Function ``watershed`` is deprecated and will be removed in version 0.19. Use ``skimage.segmentation.watershed`` instead.\n",
      "  def watershed(image, markers=None, connectivity=1, offset=None, mask=None,\n"
     ]
    },
    {
     "name": "stdout",
     "output_type": "stream",
     "text": [
      "WARNING:tensorflow:No training configuration found in save file, so the model was *not* compiled. Compile it manually.\n"
     ]
    },
    {
     "name": "stderr",
     "output_type": "stream",
     "text": [
      "WARNING:tensorflow:No training configuration found in save file, so the model was *not* compiled. Compile it manually.\n",
      "/Users/ferris/opt/anaconda3/envs/imcpq_env3/lib/python3.8/site-packages/skimage/morphology/_deprecated.py:5: skimage_deprecation: Function ``watershed`` is deprecated and will be removed in version 0.19. Use ``skimage.segmentation.watershed`` instead.\n",
      "  def watershed(image, markers=None, connectivity=1, offset=None, mask=None,\n"
     ]
    },
    {
     "name": "stdout",
     "output_type": "stream",
     "text": [
      "WARNING:tensorflow:No training configuration found in save file, so the model was *not* compiled. Compile it manually.\n"
     ]
    },
    {
     "name": "stderr",
     "output_type": "stream",
     "text": [
      "WARNING:tensorflow:No training configuration found in save file, so the model was *not* compiled. Compile it manually.\n"
     ]
    },
    {
     "name": "stdout",
     "output_type": "stream",
     "text": [
      "WARNING:tensorflow:5 out of the last 17 calls to <function Model.make_predict_function.<locals>.predict_function at 0x7f85c36df5e0> triggered tf.function retracing. Tracing is expensive and the excessive number of tracings could be due to (1) creating @tf.function repeatedly in a loop, (2) passing tensors with different shapes, (3) passing Python objects instead of tensors. For (1), please define your @tf.function outside of the loop. For (2), @tf.function has experimental_relax_shapes=True option that relaxes argument shapes that can avoid unnecessary retracing. For (3), please refer to https://www.tensorflow.org/guide/function#controlling_retracing and https://www.tensorflow.org/api_docs/python/tf/function for  more details.\n"
     ]
    },
    {
     "name": "stderr",
     "output_type": "stream",
     "text": [
      "WARNING:tensorflow:5 out of the last 17 calls to <function Model.make_predict_function.<locals>.predict_function at 0x7f85c36df5e0> triggered tf.function retracing. Tracing is expensive and the excessive number of tracings could be due to (1) creating @tf.function repeatedly in a loop, (2) passing tensors with different shapes, (3) passing Python objects instead of tensors. For (1), please define your @tf.function outside of the loop. For (2), @tf.function has experimental_relax_shapes=True option that relaxes argument shapes that can avoid unnecessary retracing. For (3), please refer to https://www.tensorflow.org/guide/function#controlling_retracing and https://www.tensorflow.org/api_docs/python/tf/function for  more details.\n",
      "/Users/ferris/opt/anaconda3/envs/imcpq_env3/lib/python3.8/site-packages/skimage/morphology/_deprecated.py:5: skimage_deprecation: Function ``watershed`` is deprecated and will be removed in version 0.19. Use ``skimage.segmentation.watershed`` instead.\n",
      "  def watershed(image, markers=None, connectivity=1, offset=None, mask=None,\n"
     ]
    },
    {
     "name": "stdout",
     "output_type": "stream",
     "text": [
      "WARNING:tensorflow:No training configuration found in save file, so the model was *not* compiled. Compile it manually.\n"
     ]
    },
    {
     "name": "stderr",
     "output_type": "stream",
     "text": [
      "WARNING:tensorflow:No training configuration found in save file, so the model was *not* compiled. Compile it manually.\n",
      "/Users/ferris/opt/anaconda3/envs/imcpq_env3/lib/python3.8/site-packages/skimage/morphology/_deprecated.py:5: skimage_deprecation: Function ``watershed`` is deprecated and will be removed in version 0.19. Use ``skimage.segmentation.watershed`` instead.\n",
      "  def watershed(image, markers=None, connectivity=1, offset=None, mask=None,\n"
     ]
    },
    {
     "name": "stdout",
     "output_type": "stream",
     "text": [
      "WARNING:tensorflow:No training configuration found in save file, so the model was *not* compiled. Compile it manually.\n"
     ]
    },
    {
     "name": "stderr",
     "output_type": "stream",
     "text": [
      "WARNING:tensorflow:No training configuration found in save file, so the model was *not* compiled. Compile it manually.\n"
     ]
    },
    {
     "name": "stdout",
     "output_type": "stream",
     "text": [
      "WARNING:tensorflow:5 out of the last 17 calls to <function Model.make_predict_function.<locals>.predict_function at 0x7f85b69745e0> triggered tf.function retracing. Tracing is expensive and the excessive number of tracings could be due to (1) creating @tf.function repeatedly in a loop, (2) passing tensors with different shapes, (3) passing Python objects instead of tensors. For (1), please define your @tf.function outside of the loop. For (2), @tf.function has experimental_relax_shapes=True option that relaxes argument shapes that can avoid unnecessary retracing. For (3), please refer to https://www.tensorflow.org/guide/function#controlling_retracing and https://www.tensorflow.org/api_docs/python/tf/function for  more details.\n"
     ]
    },
    {
     "name": "stderr",
     "output_type": "stream",
     "text": [
      "WARNING:tensorflow:5 out of the last 17 calls to <function Model.make_predict_function.<locals>.predict_function at 0x7f85b69745e0> triggered tf.function retracing. Tracing is expensive and the excessive number of tracings could be due to (1) creating @tf.function repeatedly in a loop, (2) passing tensors with different shapes, (3) passing Python objects instead of tensors. For (1), please define your @tf.function outside of the loop. For (2), @tf.function has experimental_relax_shapes=True option that relaxes argument shapes that can avoid unnecessary retracing. For (3), please refer to https://www.tensorflow.org/guide/function#controlling_retracing and https://www.tensorflow.org/api_docs/python/tf/function for  more details.\n",
      "/Users/ferris/opt/anaconda3/envs/imcpq_env3/lib/python3.8/site-packages/skimage/morphology/_deprecated.py:5: skimage_deprecation: Function ``watershed`` is deprecated and will be removed in version 0.19. Use ``skimage.segmentation.watershed`` instead.\n",
      "  def watershed(image, markers=None, connectivity=1, offset=None, mask=None,\n"
     ]
    },
    {
     "name": "stdout",
     "output_type": "stream",
     "text": [
      "WARNING:tensorflow:No training configuration found in save file, so the model was *not* compiled. Compile it manually.\n"
     ]
    },
    {
     "name": "stderr",
     "output_type": "stream",
     "text": [
      "WARNING:tensorflow:No training configuration found in save file, so the model was *not* compiled. Compile it manually.\n"
     ]
    },
    {
     "name": "stdout",
     "output_type": "stream",
     "text": [
      "WARNING:tensorflow:5 out of the last 11 calls to <function Model.make_predict_function.<locals>.predict_function at 0x7f85c36df310> triggered tf.function retracing. Tracing is expensive and the excessive number of tracings could be due to (1) creating @tf.function repeatedly in a loop, (2) passing tensors with different shapes, (3) passing Python objects instead of tensors. For (1), please define your @tf.function outside of the loop. For (2), @tf.function has experimental_relax_shapes=True option that relaxes argument shapes that can avoid unnecessary retracing. For (3), please refer to https://www.tensorflow.org/guide/function#controlling_retracing and https://www.tensorflow.org/api_docs/python/tf/function for  more details.\n"
     ]
    },
    {
     "name": "stderr",
     "output_type": "stream",
     "text": [
      "WARNING:tensorflow:5 out of the last 11 calls to <function Model.make_predict_function.<locals>.predict_function at 0x7f85c36df310> triggered tf.function retracing. Tracing is expensive and the excessive number of tracings could be due to (1) creating @tf.function repeatedly in a loop, (2) passing tensors with different shapes, (3) passing Python objects instead of tensors. For (1), please define your @tf.function outside of the loop. For (2), @tf.function has experimental_relax_shapes=True option that relaxes argument shapes that can avoid unnecessary retracing. For (3), please refer to https://www.tensorflow.org/guide/function#controlling_retracing and https://www.tensorflow.org/api_docs/python/tf/function for  more details.\n",
      "/Users/ferris/opt/anaconda3/envs/imcpq_env3/lib/python3.8/site-packages/skimage/morphology/_deprecated.py:5: skimage_deprecation: Function ``watershed`` is deprecated and will be removed in version 0.19. Use ``skimage.segmentation.watershed`` instead.\n",
      "  def watershed(image, markers=None, connectivity=1, offset=None, mask=None,\n"
     ]
    },
    {
     "name": "stdout",
     "output_type": "stream",
     "text": [
      "WARNING:tensorflow:No training configuration found in save file, so the model was *not* compiled. Compile it manually.\n"
     ]
    },
    {
     "name": "stderr",
     "output_type": "stream",
     "text": [
      "WARNING:tensorflow:No training configuration found in save file, so the model was *not* compiled. Compile it manually.\n"
     ]
    },
    {
     "name": "stdout",
     "output_type": "stream",
     "text": [
      "WARNING:tensorflow:5 out of the last 17 calls to <function Model.make_predict_function.<locals>.predict_function at 0x7f85c357cee0> triggered tf.function retracing. Tracing is expensive and the excessive number of tracings could be due to (1) creating @tf.function repeatedly in a loop, (2) passing tensors with different shapes, (3) passing Python objects instead of tensors. For (1), please define your @tf.function outside of the loop. For (2), @tf.function has experimental_relax_shapes=True option that relaxes argument shapes that can avoid unnecessary retracing. For (3), please refer to https://www.tensorflow.org/guide/function#controlling_retracing and https://www.tensorflow.org/api_docs/python/tf/function for  more details.\n"
     ]
    },
    {
     "name": "stderr",
     "output_type": "stream",
     "text": [
      "WARNING:tensorflow:5 out of the last 17 calls to <function Model.make_predict_function.<locals>.predict_function at 0x7f85c357cee0> triggered tf.function retracing. Tracing is expensive and the excessive number of tracings could be due to (1) creating @tf.function repeatedly in a loop, (2) passing tensors with different shapes, (3) passing Python objects instead of tensors. For (1), please define your @tf.function outside of the loop. For (2), @tf.function has experimental_relax_shapes=True option that relaxes argument shapes that can avoid unnecessary retracing. For (3), please refer to https://www.tensorflow.org/guide/function#controlling_retracing and https://www.tensorflow.org/api_docs/python/tf/function for  more details.\n",
      "/Users/ferris/opt/anaconda3/envs/imcpq_env3/lib/python3.8/site-packages/skimage/morphology/_deprecated.py:5: skimage_deprecation: Function ``watershed`` is deprecated and will be removed in version 0.19. Use ``skimage.segmentation.watershed`` instead.\n",
      "  def watershed(image, markers=None, connectivity=1, offset=None, mask=None,\n"
     ]
    },
    {
     "name": "stdout",
     "output_type": "stream",
     "text": [
      "WARNING:tensorflow:No training configuration found in save file, so the model was *not* compiled. Compile it manually.\n"
     ]
    },
    {
     "name": "stderr",
     "output_type": "stream",
     "text": [
      "WARNING:tensorflow:No training configuration found in save file, so the model was *not* compiled. Compile it manually.\n",
      "/Users/ferris/opt/anaconda3/envs/imcpq_env3/lib/python3.8/site-packages/skimage/morphology/_deprecated.py:5: skimage_deprecation: Function ``watershed`` is deprecated and will be removed in version 0.19. Use ``skimage.segmentation.watershed`` instead.\n",
      "  def watershed(image, markers=None, connectivity=1, offset=None, mask=None,\n"
     ]
    },
    {
     "name": "stdout",
     "output_type": "stream",
     "text": [
      "WARNING:tensorflow:No training configuration found in save file, so the model was *not* compiled. Compile it manually.\n"
     ]
    },
    {
     "name": "stderr",
     "output_type": "stream",
     "text": [
      "WARNING:tensorflow:No training configuration found in save file, so the model was *not* compiled. Compile it manually.\n",
      "/Users/ferris/opt/anaconda3/envs/imcpq_env3/lib/python3.8/site-packages/skimage/morphology/_deprecated.py:5: skimage_deprecation: Function ``watershed`` is deprecated and will be removed in version 0.19. Use ``skimage.segmentation.watershed`` instead.\n",
      "  def watershed(image, markers=None, connectivity=1, offset=None, mask=None,\n"
     ]
    },
    {
     "name": "stdout",
     "output_type": "stream",
     "text": [
      "WARNING:tensorflow:No training configuration found in save file, so the model was *not* compiled. Compile it manually.\n"
     ]
    },
    {
     "name": "stderr",
     "output_type": "stream",
     "text": [
      "WARNING:tensorflow:No training configuration found in save file, so the model was *not* compiled. Compile it manually.\n",
      "/Users/ferris/opt/anaconda3/envs/imcpq_env3/lib/python3.8/site-packages/skimage/morphology/_deprecated.py:5: skimage_deprecation: Function ``watershed`` is deprecated and will be removed in version 0.19. Use ``skimage.segmentation.watershed`` instead.\n",
      "  def watershed(image, markers=None, connectivity=1, offset=None, mask=None,\n"
     ]
    },
    {
     "name": "stdout",
     "output_type": "stream",
     "text": [
      "WARNING:tensorflow:No training configuration found in save file, so the model was *not* compiled. Compile it manually.\n"
     ]
    },
    {
     "name": "stderr",
     "output_type": "stream",
     "text": [
      "WARNING:tensorflow:No training configuration found in save file, so the model was *not* compiled. Compile it manually.\n",
      "/Users/ferris/opt/anaconda3/envs/imcpq_env3/lib/python3.8/site-packages/skimage/morphology/_deprecated.py:5: skimage_deprecation: Function ``watershed`` is deprecated and will be removed in version 0.19. Use ``skimage.segmentation.watershed`` instead.\n",
      "  def watershed(image, markers=None, connectivity=1, offset=None, mask=None,\n"
     ]
    },
    {
     "name": "stdout",
     "output_type": "stream",
     "text": [
      "WARNING:tensorflow:No training configuration found in save file, so the model was *not* compiled. Compile it manually.\n"
     ]
    },
    {
     "name": "stderr",
     "output_type": "stream",
     "text": [
      "WARNING:tensorflow:No training configuration found in save file, so the model was *not* compiled. Compile it manually.\n",
      "/Users/ferris/opt/anaconda3/envs/imcpq_env3/lib/python3.8/site-packages/skimage/morphology/_deprecated.py:5: skimage_deprecation: Function ``watershed`` is deprecated and will be removed in version 0.19. Use ``skimage.segmentation.watershed`` instead.\n",
      "  def watershed(image, markers=None, connectivity=1, offset=None, mask=None,\n"
     ]
    },
    {
     "name": "stdout",
     "output_type": "stream",
     "text": [
      "WARNING:tensorflow:No training configuration found in save file, so the model was *not* compiled. Compile it manually.\n"
     ]
    },
    {
     "name": "stderr",
     "output_type": "stream",
     "text": [
      "WARNING:tensorflow:No training configuration found in save file, so the model was *not* compiled. Compile it manually.\n",
      "/Users/ferris/opt/anaconda3/envs/imcpq_env3/lib/python3.8/site-packages/skimage/morphology/_deprecated.py:5: skimage_deprecation: Function ``watershed`` is deprecated and will be removed in version 0.19. Use ``skimage.segmentation.watershed`` instead.\n",
      "  def watershed(image, markers=None, connectivity=1, offset=None, mask=None,\n"
     ]
    },
    {
     "name": "stdout",
     "output_type": "stream",
     "text": [
      "WARNING:tensorflow:No training configuration found in save file, so the model was *not* compiled. Compile it manually.\n"
     ]
    },
    {
     "name": "stderr",
     "output_type": "stream",
     "text": [
      "WARNING:tensorflow:No training configuration found in save file, so the model was *not* compiled. Compile it manually.\n",
      "/Users/ferris/opt/anaconda3/envs/imcpq_env3/lib/python3.8/site-packages/skimage/morphology/_deprecated.py:5: skimage_deprecation: Function ``watershed`` is deprecated and will be removed in version 0.19. Use ``skimage.segmentation.watershed`` instead.\n",
      "  def watershed(image, markers=None, connectivity=1, offset=None, mask=None,\n"
     ]
    },
    {
     "name": "stdout",
     "output_type": "stream",
     "text": [
      "WARNING:tensorflow:No training configuration found in save file, so the model was *not* compiled. Compile it manually.\n"
     ]
    },
    {
     "name": "stderr",
     "output_type": "stream",
     "text": [
      "WARNING:tensorflow:No training configuration found in save file, so the model was *not* compiled. Compile it manually.\n",
      "/Users/ferris/opt/anaconda3/envs/imcpq_env3/lib/python3.8/site-packages/skimage/morphology/_deprecated.py:5: skimage_deprecation: Function ``watershed`` is deprecated and will be removed in version 0.19. Use ``skimage.segmentation.watershed`` instead.\n",
      "  def watershed(image, markers=None, connectivity=1, offset=None, mask=None,\n"
     ]
    },
    {
     "name": "stdout",
     "output_type": "stream",
     "text": [
      "WARNING:tensorflow:No training configuration found in save file, so the model was *not* compiled. Compile it manually.\n"
     ]
    },
    {
     "name": "stderr",
     "output_type": "stream",
     "text": [
      "WARNING:tensorflow:No training configuration found in save file, so the model was *not* compiled. Compile it manually.\n",
      "/Users/ferris/opt/anaconda3/envs/imcpq_env3/lib/python3.8/site-packages/skimage/morphology/_deprecated.py:5: skimage_deprecation: Function ``watershed`` is deprecated and will be removed in version 0.19. Use ``skimage.segmentation.watershed`` instead.\n",
      "  def watershed(image, markers=None, connectivity=1, offset=None, mask=None,\n"
     ]
    },
    {
     "name": "stdout",
     "output_type": "stream",
     "text": [
      "WARNING:tensorflow:No training configuration found in save file, so the model was *not* compiled. Compile it manually.\n"
     ]
    },
    {
     "name": "stderr",
     "output_type": "stream",
     "text": [
      "WARNING:tensorflow:No training configuration found in save file, so the model was *not* compiled. Compile it manually.\n",
      "/Users/ferris/opt/anaconda3/envs/imcpq_env3/lib/python3.8/site-packages/skimage/morphology/_deprecated.py:5: skimage_deprecation: Function ``watershed`` is deprecated and will be removed in version 0.19. Use ``skimage.segmentation.watershed`` instead.\n",
      "  def watershed(image, markers=None, connectivity=1, offset=None, mask=None,\n"
     ]
    },
    {
     "name": "stdout",
     "output_type": "stream",
     "text": [
      "WARNING:tensorflow:No training configuration found in save file, so the model was *not* compiled. Compile it manually.\n"
     ]
    },
    {
     "name": "stderr",
     "output_type": "stream",
     "text": [
      "WARNING:tensorflow:No training configuration found in save file, so the model was *not* compiled. Compile it manually.\n",
      "/Users/ferris/opt/anaconda3/envs/imcpq_env3/lib/python3.8/site-packages/skimage/morphology/_deprecated.py:5: skimage_deprecation: Function ``watershed`` is deprecated and will be removed in version 0.19. Use ``skimage.segmentation.watershed`` instead.\n",
      "  def watershed(image, markers=None, connectivity=1, offset=None, mask=None,\n"
     ]
    },
    {
     "name": "stdout",
     "output_type": "stream",
     "text": [
      "WARNING:tensorflow:No training configuration found in save file, so the model was *not* compiled. Compile it manually.\n"
     ]
    },
    {
     "name": "stderr",
     "output_type": "stream",
     "text": [
      "WARNING:tensorflow:No training configuration found in save file, so the model was *not* compiled. Compile it manually.\n",
      "/Users/ferris/opt/anaconda3/envs/imcpq_env3/lib/python3.8/site-packages/skimage/morphology/_deprecated.py:5: skimage_deprecation: Function ``watershed`` is deprecated and will be removed in version 0.19. Use ``skimage.segmentation.watershed`` instead.\n",
      "  def watershed(image, markers=None, connectivity=1, offset=None, mask=None,\n"
     ]
    },
    {
     "name": "stdout",
     "output_type": "stream",
     "text": [
      "WARNING:tensorflow:No training configuration found in save file, so the model was *not* compiled. Compile it manually.\n"
     ]
    },
    {
     "name": "stderr",
     "output_type": "stream",
     "text": [
      "WARNING:tensorflow:No training configuration found in save file, so the model was *not* compiled. Compile it manually.\n",
      "/Users/ferris/opt/anaconda3/envs/imcpq_env3/lib/python3.8/site-packages/skimage/morphology/_deprecated.py:5: skimage_deprecation: Function ``watershed`` is deprecated and will be removed in version 0.19. Use ``skimage.segmentation.watershed`` instead.\n",
      "  def watershed(image, markers=None, connectivity=1, offset=None, mask=None,\n"
     ]
    },
    {
     "name": "stdout",
     "output_type": "stream",
     "text": [
      "WARNING:tensorflow:No training configuration found in save file, so the model was *not* compiled. Compile it manually.\n"
     ]
    },
    {
     "name": "stderr",
     "output_type": "stream",
     "text": [
      "WARNING:tensorflow:No training configuration found in save file, so the model was *not* compiled. Compile it manually.\n",
      "/Users/ferris/opt/anaconda3/envs/imcpq_env3/lib/python3.8/site-packages/skimage/morphology/_deprecated.py:5: skimage_deprecation: Function ``watershed`` is deprecated and will be removed in version 0.19. Use ``skimage.segmentation.watershed`` instead.\n",
      "  def watershed(image, markers=None, connectivity=1, offset=None, mask=None,\n"
     ]
    },
    {
     "name": "stdout",
     "output_type": "stream",
     "text": [
      "WARNING:tensorflow:No training configuration found in save file, so the model was *not* compiled. Compile it manually.\n"
     ]
    },
    {
     "name": "stderr",
     "output_type": "stream",
     "text": [
      "WARNING:tensorflow:No training configuration found in save file, so the model was *not* compiled. Compile it manually.\n",
      "/Users/ferris/opt/anaconda3/envs/imcpq_env3/lib/python3.8/site-packages/skimage/morphology/_deprecated.py:5: skimage_deprecation: Function ``watershed`` is deprecated and will be removed in version 0.19. Use ``skimage.segmentation.watershed`` instead.\n",
      "  def watershed(image, markers=None, connectivity=1, offset=None, mask=None,\n"
     ]
    },
    {
     "name": "stdout",
     "output_type": "stream",
     "text": [
      "WARNING:tensorflow:No training configuration found in save file, so the model was *not* compiled. Compile it manually.\n"
     ]
    },
    {
     "name": "stderr",
     "output_type": "stream",
     "text": [
      "WARNING:tensorflow:No training configuration found in save file, so the model was *not* compiled. Compile it manually.\n",
      "/Users/ferris/opt/anaconda3/envs/imcpq_env3/lib/python3.8/site-packages/skimage/morphology/_deprecated.py:5: skimage_deprecation: Function ``watershed`` is deprecated and will be removed in version 0.19. Use ``skimage.segmentation.watershed`` instead.\n",
      "  def watershed(image, markers=None, connectivity=1, offset=None, mask=None,\n"
     ]
    },
    {
     "name": "stdout",
     "output_type": "stream",
     "text": [
      "WARNING:tensorflow:No training configuration found in save file, so the model was *not* compiled. Compile it manually.\n"
     ]
    },
    {
     "name": "stderr",
     "output_type": "stream",
     "text": [
      "WARNING:tensorflow:No training configuration found in save file, so the model was *not* compiled. Compile it manually.\n",
      "/Users/ferris/opt/anaconda3/envs/imcpq_env3/lib/python3.8/site-packages/skimage/morphology/_deprecated.py:5: skimage_deprecation: Function ``watershed`` is deprecated and will be removed in version 0.19. Use ``skimage.segmentation.watershed`` instead.\n",
      "  def watershed(image, markers=None, connectivity=1, offset=None, mask=None,\n"
     ]
    },
    {
     "name": "stdout",
     "output_type": "stream",
     "text": [
      "WARNING:tensorflow:No training configuration found in save file, so the model was *not* compiled. Compile it manually.\n"
     ]
    },
    {
     "name": "stderr",
     "output_type": "stream",
     "text": [
      "WARNING:tensorflow:No training configuration found in save file, so the model was *not* compiled. Compile it manually.\n",
      "/Users/ferris/opt/anaconda3/envs/imcpq_env3/lib/python3.8/site-packages/skimage/morphology/_deprecated.py:5: skimage_deprecation: Function ``watershed`` is deprecated and will be removed in version 0.19. Use ``skimage.segmentation.watershed`` instead.\n",
      "  def watershed(image, markers=None, connectivity=1, offset=None, mask=None,\n"
     ]
    },
    {
     "name": "stdout",
     "output_type": "stream",
     "text": [
      "WARNING:tensorflow:No training configuration found in save file, so the model was *not* compiled. Compile it manually.\n"
     ]
    },
    {
     "name": "stderr",
     "output_type": "stream",
     "text": [
      "WARNING:tensorflow:No training configuration found in save file, so the model was *not* compiled. Compile it manually.\n",
      "/Users/ferris/opt/anaconda3/envs/imcpq_env3/lib/python3.8/site-packages/skimage/morphology/_deprecated.py:5: skimage_deprecation: Function ``watershed`` is deprecated and will be removed in version 0.19. Use ``skimage.segmentation.watershed`` instead.\n",
      "  def watershed(image, markers=None, connectivity=1, offset=None, mask=None,\n"
     ]
    },
    {
     "name": "stdout",
     "output_type": "stream",
     "text": [
      "WARNING:tensorflow:No training configuration found in save file, so the model was *not* compiled. Compile it manually.\n"
     ]
    },
    {
     "name": "stderr",
     "output_type": "stream",
     "text": [
      "WARNING:tensorflow:No training configuration found in save file, so the model was *not* compiled. Compile it manually.\n",
      "/Users/ferris/opt/anaconda3/envs/imcpq_env3/lib/python3.8/site-packages/skimage/morphology/_deprecated.py:5: skimage_deprecation: Function ``watershed`` is deprecated and will be removed in version 0.19. Use ``skimage.segmentation.watershed`` instead.\n",
      "  def watershed(image, markers=None, connectivity=1, offset=None, mask=None,\n"
     ]
    },
    {
     "name": "stdout",
     "output_type": "stream",
     "text": [
      "WARNING:tensorflow:No training configuration found in save file, so the model was *not* compiled. Compile it manually.\n"
     ]
    },
    {
     "name": "stderr",
     "output_type": "stream",
     "text": [
      "WARNING:tensorflow:No training configuration found in save file, so the model was *not* compiled. Compile it manually.\n",
      "/Users/ferris/opt/anaconda3/envs/imcpq_env3/lib/python3.8/site-packages/skimage/morphology/_deprecated.py:5: skimage_deprecation: Function ``watershed`` is deprecated and will be removed in version 0.19. Use ``skimage.segmentation.watershed`` instead.\n",
      "  def watershed(image, markers=None, connectivity=1, offset=None, mask=None,\n"
     ]
    },
    {
     "name": "stdout",
     "output_type": "stream",
     "text": [
      "WARNING:tensorflow:No training configuration found in save file, so the model was *not* compiled. Compile it manually.\n"
     ]
    },
    {
     "name": "stderr",
     "output_type": "stream",
     "text": [
      "WARNING:tensorflow:No training configuration found in save file, so the model was *not* compiled. Compile it manually.\n",
      "/Users/ferris/opt/anaconda3/envs/imcpq_env3/lib/python3.8/site-packages/skimage/morphology/_deprecated.py:5: skimage_deprecation: Function ``watershed`` is deprecated and will be removed in version 0.19. Use ``skimage.segmentation.watershed`` instead.\n",
      "  def watershed(image, markers=None, connectivity=1, offset=None, mask=None,\n"
     ]
    },
    {
     "name": "stdout",
     "output_type": "stream",
     "text": [
      "WARNING:tensorflow:No training configuration found in save file, so the model was *not* compiled. Compile it manually.\n"
     ]
    },
    {
     "name": "stderr",
     "output_type": "stream",
     "text": [
      "WARNING:tensorflow:No training configuration found in save file, so the model was *not* compiled. Compile it manually.\n",
      "/Users/ferris/opt/anaconda3/envs/imcpq_env3/lib/python3.8/site-packages/skimage/morphology/_deprecated.py:5: skimage_deprecation: Function ``watershed`` is deprecated and will be removed in version 0.19. Use ``skimage.segmentation.watershed`` instead.\n",
      "  def watershed(image, markers=None, connectivity=1, offset=None, mask=None,\n"
     ]
    },
    {
     "name": "stdout",
     "output_type": "stream",
     "text": [
      "WARNING:tensorflow:No training configuration found in save file, so the model was *not* compiled. Compile it manually.\n"
     ]
    },
    {
     "name": "stderr",
     "output_type": "stream",
     "text": [
      "WARNING:tensorflow:No training configuration found in save file, so the model was *not* compiled. Compile it manually.\n",
      "/Users/ferris/opt/anaconda3/envs/imcpq_env3/lib/python3.8/site-packages/skimage/morphology/_deprecated.py:5: skimage_deprecation: Function ``watershed`` is deprecated and will be removed in version 0.19. Use ``skimage.segmentation.watershed`` instead.\n",
      "  def watershed(image, markers=None, connectivity=1, offset=None, mask=None,\n"
     ]
    },
    {
     "name": "stdout",
     "output_type": "stream",
     "text": [
      "WARNING:tensorflow:No training configuration found in save file, so the model was *not* compiled. Compile it manually.\n"
     ]
    },
    {
     "name": "stderr",
     "output_type": "stream",
     "text": [
      "WARNING:tensorflow:No training configuration found in save file, so the model was *not* compiled. Compile it manually.\n",
      "/Users/ferris/opt/anaconda3/envs/imcpq_env3/lib/python3.8/site-packages/skimage/morphology/_deprecated.py:5: skimage_deprecation: Function ``watershed`` is deprecated and will be removed in version 0.19. Use ``skimage.segmentation.watershed`` instead.\n",
      "  def watershed(image, markers=None, connectivity=1, offset=None, mask=None,\n"
     ]
    },
    {
     "name": "stdout",
     "output_type": "stream",
     "text": [
      "WARNING:tensorflow:No training configuration found in save file, so the model was *not* compiled. Compile it manually.\n"
     ]
    },
    {
     "name": "stderr",
     "output_type": "stream",
     "text": [
      "WARNING:tensorflow:No training configuration found in save file, so the model was *not* compiled. Compile it manually.\n",
      "/Users/ferris/opt/anaconda3/envs/imcpq_env3/lib/python3.8/site-packages/skimage/morphology/_deprecated.py:5: skimage_deprecation: Function ``watershed`` is deprecated and will be removed in version 0.19. Use ``skimage.segmentation.watershed`` instead.\n",
      "  def watershed(image, markers=None, connectivity=1, offset=None, mask=None,\n"
     ]
    },
    {
     "name": "stdout",
     "output_type": "stream",
     "text": [
      "WARNING:tensorflow:No training configuration found in save file, so the model was *not* compiled. Compile it manually.\n"
     ]
    },
    {
     "name": "stderr",
     "output_type": "stream",
     "text": [
      "WARNING:tensorflow:No training configuration found in save file, so the model was *not* compiled. Compile it manually.\n",
      "/Users/ferris/opt/anaconda3/envs/imcpq_env3/lib/python3.8/site-packages/skimage/morphology/_deprecated.py:5: skimage_deprecation: Function ``watershed`` is deprecated and will be removed in version 0.19. Use ``skimage.segmentation.watershed`` instead.\n",
      "  def watershed(image, markers=None, connectivity=1, offset=None, mask=None,\n"
     ]
    },
    {
     "name": "stdout",
     "output_type": "stream",
     "text": [
      "WARNING:tensorflow:No training configuration found in save file, so the model was *not* compiled. Compile it manually.\n"
     ]
    },
    {
     "name": "stderr",
     "output_type": "stream",
     "text": [
      "WARNING:tensorflow:No training configuration found in save file, so the model was *not* compiled. Compile it manually.\n",
      "/Users/ferris/opt/anaconda3/envs/imcpq_env3/lib/python3.8/site-packages/skimage/morphology/_deprecated.py:5: skimage_deprecation: Function ``watershed`` is deprecated and will be removed in version 0.19. Use ``skimage.segmentation.watershed`` instead.\n",
      "  def watershed(image, markers=None, connectivity=1, offset=None, mask=None,\n"
     ]
    },
    {
     "name": "stdout",
     "output_type": "stream",
     "text": [
      "WARNING:tensorflow:No training configuration found in save file, so the model was *not* compiled. Compile it manually.\n"
     ]
    },
    {
     "name": "stderr",
     "output_type": "stream",
     "text": [
      "WARNING:tensorflow:No training configuration found in save file, so the model was *not* compiled. Compile it manually.\n",
      "/Users/ferris/opt/anaconda3/envs/imcpq_env3/lib/python3.8/site-packages/skimage/morphology/_deprecated.py:5: skimage_deprecation: Function ``watershed`` is deprecated and will be removed in version 0.19. Use ``skimage.segmentation.watershed`` instead.\n",
      "  def watershed(image, markers=None, connectivity=1, offset=None, mask=None,\n"
     ]
    },
    {
     "name": "stdout",
     "output_type": "stream",
     "text": [
      "WARNING:tensorflow:No training configuration found in save file, so the model was *not* compiled. Compile it manually.\n"
     ]
    },
    {
     "name": "stderr",
     "output_type": "stream",
     "text": [
      "WARNING:tensorflow:No training configuration found in save file, so the model was *not* compiled. Compile it manually.\n",
      "/Users/ferris/opt/anaconda3/envs/imcpq_env3/lib/python3.8/site-packages/skimage/morphology/_deprecated.py:5: skimage_deprecation: Function ``watershed`` is deprecated and will be removed in version 0.19. Use ``skimage.segmentation.watershed`` instead.\n",
      "  def watershed(image, markers=None, connectivity=1, offset=None, mask=None,\n"
     ]
    },
    {
     "name": "stdout",
     "output_type": "stream",
     "text": [
      "WARNING:tensorflow:No training configuration found in save file, so the model was *not* compiled. Compile it manually.\n"
     ]
    },
    {
     "name": "stderr",
     "output_type": "stream",
     "text": [
      "WARNING:tensorflow:No training configuration found in save file, so the model was *not* compiled. Compile it manually.\n",
      "/Users/ferris/opt/anaconda3/envs/imcpq_env3/lib/python3.8/site-packages/skimage/morphology/_deprecated.py:5: skimage_deprecation: Function ``watershed`` is deprecated and will be removed in version 0.19. Use ``skimage.segmentation.watershed`` instead.\n",
      "  def watershed(image, markers=None, connectivity=1, offset=None, mask=None,\n"
     ]
    },
    {
     "name": "stdout",
     "output_type": "stream",
     "text": [
      "WARNING:tensorflow:No training configuration found in save file, so the model was *not* compiled. Compile it manually.\n"
     ]
    },
    {
     "name": "stderr",
     "output_type": "stream",
     "text": [
      "WARNING:tensorflow:No training configuration found in save file, so the model was *not* compiled. Compile it manually.\n",
      "/Users/ferris/opt/anaconda3/envs/imcpq_env3/lib/python3.8/site-packages/skimage/morphology/_deprecated.py:5: skimage_deprecation: Function ``watershed`` is deprecated and will be removed in version 0.19. Use ``skimage.segmentation.watershed`` instead.\n",
      "  def watershed(image, markers=None, connectivity=1, offset=None, mask=None,\n"
     ]
    },
    {
     "name": "stdout",
     "output_type": "stream",
     "text": [
      "WARNING:tensorflow:No training configuration found in save file, so the model was *not* compiled. Compile it manually.\n"
     ]
    },
    {
     "name": "stderr",
     "output_type": "stream",
     "text": [
      "WARNING:tensorflow:No training configuration found in save file, so the model was *not* compiled. Compile it manually.\n",
      "/Users/ferris/opt/anaconda3/envs/imcpq_env3/lib/python3.8/site-packages/skimage/morphology/_deprecated.py:5: skimage_deprecation: Function ``watershed`` is deprecated and will be removed in version 0.19. Use ``skimage.segmentation.watershed`` instead.\n",
      "  def watershed(image, markers=None, connectivity=1, offset=None, mask=None,\n"
     ]
    },
    {
     "name": "stdout",
     "output_type": "stream",
     "text": [
      "WARNING:tensorflow:No training configuration found in save file, so the model was *not* compiled. Compile it manually.\n"
     ]
    },
    {
     "name": "stderr",
     "output_type": "stream",
     "text": [
      "WARNING:tensorflow:No training configuration found in save file, so the model was *not* compiled. Compile it manually.\n",
      "/Users/ferris/opt/anaconda3/envs/imcpq_env3/lib/python3.8/site-packages/skimage/morphology/_deprecated.py:5: skimage_deprecation: Function ``watershed`` is deprecated and will be removed in version 0.19. Use ``skimage.segmentation.watershed`` instead.\n",
      "  def watershed(image, markers=None, connectivity=1, offset=None, mask=None,\n"
     ]
    },
    {
     "name": "stdout",
     "output_type": "stream",
     "text": [
      "WARNING:tensorflow:No training configuration found in save file, so the model was *not* compiled. Compile it manually.\n"
     ]
    },
    {
     "name": "stderr",
     "output_type": "stream",
     "text": [
      "WARNING:tensorflow:No training configuration found in save file, so the model was *not* compiled. Compile it manually.\n",
      "/Users/ferris/opt/anaconda3/envs/imcpq_env3/lib/python3.8/site-packages/skimage/morphology/_deprecated.py:5: skimage_deprecation: Function ``watershed`` is deprecated and will be removed in version 0.19. Use ``skimage.segmentation.watershed`` instead.\n",
      "  def watershed(image, markers=None, connectivity=1, offset=None, mask=None,\n"
     ]
    },
    {
     "name": "stdout",
     "output_type": "stream",
     "text": [
      "WARNING:tensorflow:No training configuration found in save file, so the model was *not* compiled. Compile it manually.\n"
     ]
    },
    {
     "name": "stderr",
     "output_type": "stream",
     "text": [
      "WARNING:tensorflow:No training configuration found in save file, so the model was *not* compiled. Compile it manually.\n",
      "/Users/ferris/opt/anaconda3/envs/imcpq_env3/lib/python3.8/site-packages/skimage/morphology/_deprecated.py:5: skimage_deprecation: Function ``watershed`` is deprecated and will be removed in version 0.19. Use ``skimage.segmentation.watershed`` instead.\n",
      "  def watershed(image, markers=None, connectivity=1, offset=None, mask=None,\n"
     ]
    },
    {
     "name": "stdout",
     "output_type": "stream",
     "text": [
      "WARNING:tensorflow:No training configuration found in save file, so the model was *not* compiled. Compile it manually.\n"
     ]
    },
    {
     "name": "stderr",
     "output_type": "stream",
     "text": [
      "WARNING:tensorflow:No training configuration found in save file, so the model was *not* compiled. Compile it manually.\n",
      "/Users/ferris/opt/anaconda3/envs/imcpq_env3/lib/python3.8/site-packages/skimage/morphology/_deprecated.py:5: skimage_deprecation: Function ``watershed`` is deprecated and will be removed in version 0.19. Use ``skimage.segmentation.watershed`` instead.\n",
      "  def watershed(image, markers=None, connectivity=1, offset=None, mask=None,\n"
     ]
    },
    {
     "name": "stdout",
     "output_type": "stream",
     "text": [
      "WARNING:tensorflow:No training configuration found in save file, so the model was *not* compiled. Compile it manually.\n"
     ]
    },
    {
     "name": "stderr",
     "output_type": "stream",
     "text": [
      "WARNING:tensorflow:No training configuration found in save file, so the model was *not* compiled. Compile it manually.\n",
      "/Users/ferris/opt/anaconda3/envs/imcpq_env3/lib/python3.8/site-packages/skimage/morphology/_deprecated.py:5: skimage_deprecation: Function ``watershed`` is deprecated and will be removed in version 0.19. Use ``skimage.segmentation.watershed`` instead.\n",
      "  def watershed(image, markers=None, connectivity=1, offset=None, mask=None,\n"
     ]
    },
    {
     "name": "stdout",
     "output_type": "stream",
     "text": [
      "WARNING:tensorflow:No training configuration found in save file, so the model was *not* compiled. Compile it manually.\n"
     ]
    },
    {
     "name": "stderr",
     "output_type": "stream",
     "text": [
      "WARNING:tensorflow:No training configuration found in save file, so the model was *not* compiled. Compile it manually.\n"
     ]
    },
    {
     "name": "stdout",
     "output_type": "stream",
     "text": [
      "WARNING:tensorflow:5 out of the last 17 calls to <function Model.make_predict_function.<locals>.predict_function at 0x7f85c3584700> triggered tf.function retracing. Tracing is expensive and the excessive number of tracings could be due to (1) creating @tf.function repeatedly in a loop, (2) passing tensors with different shapes, (3) passing Python objects instead of tensors. For (1), please define your @tf.function outside of the loop. For (2), @tf.function has experimental_relax_shapes=True option that relaxes argument shapes that can avoid unnecessary retracing. For (3), please refer to https://www.tensorflow.org/guide/function#controlling_retracing and https://www.tensorflow.org/api_docs/python/tf/function for  more details.\n"
     ]
    },
    {
     "name": "stderr",
     "output_type": "stream",
     "text": [
      "WARNING:tensorflow:5 out of the last 17 calls to <function Model.make_predict_function.<locals>.predict_function at 0x7f85c3584700> triggered tf.function retracing. Tracing is expensive and the excessive number of tracings could be due to (1) creating @tf.function repeatedly in a loop, (2) passing tensors with different shapes, (3) passing Python objects instead of tensors. For (1), please define your @tf.function outside of the loop. For (2), @tf.function has experimental_relax_shapes=True option that relaxes argument shapes that can avoid unnecessary retracing. For (3), please refer to https://www.tensorflow.org/guide/function#controlling_retracing and https://www.tensorflow.org/api_docs/python/tf/function for  more details.\n",
      "/Users/ferris/opt/anaconda3/envs/imcpq_env3/lib/python3.8/site-packages/skimage/morphology/_deprecated.py:5: skimage_deprecation: Function ``watershed`` is deprecated and will be removed in version 0.19. Use ``skimage.segmentation.watershed`` instead.\n",
      "  def watershed(image, markers=None, connectivity=1, offset=None, mask=None,\n"
     ]
    },
    {
     "name": "stdout",
     "output_type": "stream",
     "text": [
      "WARNING:tensorflow:No training configuration found in save file, so the model was *not* compiled. Compile it manually.\n"
     ]
    },
    {
     "name": "stderr",
     "output_type": "stream",
     "text": [
      "WARNING:tensorflow:No training configuration found in save file, so the model was *not* compiled. Compile it manually.\n",
      "/Users/ferris/opt/anaconda3/envs/imcpq_env3/lib/python3.8/site-packages/skimage/morphology/_deprecated.py:5: skimage_deprecation: Function ``watershed`` is deprecated and will be removed in version 0.19. Use ``skimage.segmentation.watershed`` instead.\n",
      "  def watershed(image, markers=None, connectivity=1, offset=None, mask=None,\n"
     ]
    },
    {
     "name": "stdout",
     "output_type": "stream",
     "text": [
      "WARNING:tensorflow:No training configuration found in save file, so the model was *not* compiled. Compile it manually.\n"
     ]
    },
    {
     "name": "stderr",
     "output_type": "stream",
     "text": [
      "WARNING:tensorflow:No training configuration found in save file, so the model was *not* compiled. Compile it manually.\n",
      "/Users/ferris/opt/anaconda3/envs/imcpq_env3/lib/python3.8/site-packages/skimage/morphology/_deprecated.py:5: skimage_deprecation: Function ``watershed`` is deprecated and will be removed in version 0.19. Use ``skimage.segmentation.watershed`` instead.\n",
      "  def watershed(image, markers=None, connectivity=1, offset=None, mask=None,\n"
     ]
    },
    {
     "name": "stdout",
     "output_type": "stream",
     "text": [
      "WARNING:tensorflow:No training configuration found in save file, so the model was *not* compiled. Compile it manually.\n"
     ]
    },
    {
     "name": "stderr",
     "output_type": "stream",
     "text": [
      "WARNING:tensorflow:No training configuration found in save file, so the model was *not* compiled. Compile it manually.\n",
      "/Users/ferris/opt/anaconda3/envs/imcpq_env3/lib/python3.8/site-packages/skimage/morphology/_deprecated.py:5: skimage_deprecation: Function ``watershed`` is deprecated and will be removed in version 0.19. Use ``skimage.segmentation.watershed`` instead.\n",
      "  def watershed(image, markers=None, connectivity=1, offset=None, mask=None,\n"
     ]
    },
    {
     "name": "stdout",
     "output_type": "stream",
     "text": [
      "WARNING:tensorflow:No training configuration found in save file, so the model was *not* compiled. Compile it manually.\n"
     ]
    },
    {
     "name": "stderr",
     "output_type": "stream",
     "text": [
      "WARNING:tensorflow:No training configuration found in save file, so the model was *not* compiled. Compile it manually.\n",
      "/Users/ferris/opt/anaconda3/envs/imcpq_env3/lib/python3.8/site-packages/skimage/morphology/_deprecated.py:5: skimage_deprecation: Function ``watershed`` is deprecated and will be removed in version 0.19. Use ``skimage.segmentation.watershed`` instead.\n",
      "  def watershed(image, markers=None, connectivity=1, offset=None, mask=None,\n"
     ]
    },
    {
     "name": "stdout",
     "output_type": "stream",
     "text": [
      "WARNING:tensorflow:No training configuration found in save file, so the model was *not* compiled. Compile it manually.\n"
     ]
    },
    {
     "name": "stderr",
     "output_type": "stream",
     "text": [
      "WARNING:tensorflow:No training configuration found in save file, so the model was *not* compiled. Compile it manually.\n",
      "/Users/ferris/opt/anaconda3/envs/imcpq_env3/lib/python3.8/site-packages/skimage/morphology/_deprecated.py:5: skimage_deprecation: Function ``watershed`` is deprecated and will be removed in version 0.19. Use ``skimage.segmentation.watershed`` instead.\n",
      "  def watershed(image, markers=None, connectivity=1, offset=None, mask=None,\n"
     ]
    },
    {
     "name": "stdout",
     "output_type": "stream",
     "text": [
      "WARNING:tensorflow:No training configuration found in save file, so the model was *not* compiled. Compile it manually.\n"
     ]
    },
    {
     "name": "stderr",
     "output_type": "stream",
     "text": [
      "WARNING:tensorflow:No training configuration found in save file, so the model was *not* compiled. Compile it manually.\n",
      "/Users/ferris/opt/anaconda3/envs/imcpq_env3/lib/python3.8/site-packages/skimage/morphology/_deprecated.py:5: skimage_deprecation: Function ``watershed`` is deprecated and will be removed in version 0.19. Use ``skimage.segmentation.watershed`` instead.\n",
      "  def watershed(image, markers=None, connectivity=1, offset=None, mask=None,\n"
     ]
    },
    {
     "name": "stdout",
     "output_type": "stream",
     "text": [
      "WARNING:tensorflow:No training configuration found in save file, so the model was *not* compiled. Compile it manually.\n"
     ]
    },
    {
     "name": "stderr",
     "output_type": "stream",
     "text": [
      "WARNING:tensorflow:No training configuration found in save file, so the model was *not* compiled. Compile it manually.\n",
      "/Users/ferris/opt/anaconda3/envs/imcpq_env3/lib/python3.8/site-packages/skimage/morphology/_deprecated.py:5: skimage_deprecation: Function ``watershed`` is deprecated and will be removed in version 0.19. Use ``skimage.segmentation.watershed`` instead.\n",
      "  def watershed(image, markers=None, connectivity=1, offset=None, mask=None,\n"
     ]
    },
    {
     "name": "stdout",
     "output_type": "stream",
     "text": [
      "WARNING:tensorflow:No training configuration found in save file, so the model was *not* compiled. Compile it manually.\n"
     ]
    },
    {
     "name": "stderr",
     "output_type": "stream",
     "text": [
      "WARNING:tensorflow:No training configuration found in save file, so the model was *not* compiled. Compile it manually.\n",
      "/Users/ferris/opt/anaconda3/envs/imcpq_env3/lib/python3.8/site-packages/skimage/morphology/_deprecated.py:5: skimage_deprecation: Function ``watershed`` is deprecated and will be removed in version 0.19. Use ``skimage.segmentation.watershed`` instead.\n",
      "  def watershed(image, markers=None, connectivity=1, offset=None, mask=None,\n"
     ]
    },
    {
     "name": "stdout",
     "output_type": "stream",
     "text": [
      "WARNING:tensorflow:No training configuration found in save file, so the model was *not* compiled. Compile it manually.\n"
     ]
    },
    {
     "name": "stderr",
     "output_type": "stream",
     "text": [
      "WARNING:tensorflow:No training configuration found in save file, so the model was *not* compiled. Compile it manually.\n",
      "/Users/ferris/opt/anaconda3/envs/imcpq_env3/lib/python3.8/site-packages/skimage/morphology/_deprecated.py:5: skimage_deprecation: Function ``watershed`` is deprecated and will be removed in version 0.19. Use ``skimage.segmentation.watershed`` instead.\n",
      "  def watershed(image, markers=None, connectivity=1, offset=None, mask=None,\n"
     ]
    },
    {
     "name": "stdout",
     "output_type": "stream",
     "text": [
      "WARNING:tensorflow:No training configuration found in save file, so the model was *not* compiled. Compile it manually.\n"
     ]
    },
    {
     "name": "stderr",
     "output_type": "stream",
     "text": [
      "WARNING:tensorflow:No training configuration found in save file, so the model was *not* compiled. Compile it manually.\n",
      "/Users/ferris/opt/anaconda3/envs/imcpq_env3/lib/python3.8/site-packages/skimage/morphology/_deprecated.py:5: skimage_deprecation: Function ``watershed`` is deprecated and will be removed in version 0.19. Use ``skimage.segmentation.watershed`` instead.\n",
      "  def watershed(image, markers=None, connectivity=1, offset=None, mask=None,\n"
     ]
    },
    {
     "name": "stdout",
     "output_type": "stream",
     "text": [
      "WARNING:tensorflow:No training configuration found in save file, so the model was *not* compiled. Compile it manually.\n"
     ]
    },
    {
     "name": "stderr",
     "output_type": "stream",
     "text": [
      "WARNING:tensorflow:No training configuration found in save file, so the model was *not* compiled. Compile it manually.\n",
      "/Users/ferris/opt/anaconda3/envs/imcpq_env3/lib/python3.8/site-packages/skimage/morphology/_deprecated.py:5: skimage_deprecation: Function ``watershed`` is deprecated and will be removed in version 0.19. Use ``skimage.segmentation.watershed`` instead.\n",
      "  def watershed(image, markers=None, connectivity=1, offset=None, mask=None,\n"
     ]
    },
    {
     "name": "stdout",
     "output_type": "stream",
     "text": [
      "WARNING:tensorflow:No training configuration found in save file, so the model was *not* compiled. Compile it manually.\n"
     ]
    },
    {
     "name": "stderr",
     "output_type": "stream",
     "text": [
      "WARNING:tensorflow:No training configuration found in save file, so the model was *not* compiled. Compile it manually.\n",
      "/Users/ferris/opt/anaconda3/envs/imcpq_env3/lib/python3.8/site-packages/skimage/morphology/_deprecated.py:5: skimage_deprecation: Function ``watershed`` is deprecated and will be removed in version 0.19. Use ``skimage.segmentation.watershed`` instead.\n",
      "  def watershed(image, markers=None, connectivity=1, offset=None, mask=None,\n"
     ]
    },
    {
     "name": "stdout",
     "output_type": "stream",
     "text": [
      "WARNING:tensorflow:No training configuration found in save file, so the model was *not* compiled. Compile it manually.\n"
     ]
    },
    {
     "name": "stderr",
     "output_type": "stream",
     "text": [
      "WARNING:tensorflow:No training configuration found in save file, so the model was *not* compiled. Compile it manually.\n",
      "/Users/ferris/opt/anaconda3/envs/imcpq_env3/lib/python3.8/site-packages/skimage/morphology/_deprecated.py:5: skimage_deprecation: Function ``watershed`` is deprecated and will be removed in version 0.19. Use ``skimage.segmentation.watershed`` instead.\n",
      "  def watershed(image, markers=None, connectivity=1, offset=None, mask=None,\n"
     ]
    },
    {
     "name": "stdout",
     "output_type": "stream",
     "text": [
      "WARNING:tensorflow:No training configuration found in save file, so the model was *not* compiled. Compile it manually.\n"
     ]
    },
    {
     "name": "stderr",
     "output_type": "stream",
     "text": [
      "WARNING:tensorflow:No training configuration found in save file, so the model was *not* compiled. Compile it manually.\n",
      "/Users/ferris/opt/anaconda3/envs/imcpq_env3/lib/python3.8/site-packages/skimage/morphology/_deprecated.py:5: skimage_deprecation: Function ``watershed`` is deprecated and will be removed in version 0.19. Use ``skimage.segmentation.watershed`` instead.\n",
      "  def watershed(image, markers=None, connectivity=1, offset=None, mask=None,\n"
     ]
    },
    {
     "name": "stdout",
     "output_type": "stream",
     "text": [
      "WARNING:tensorflow:No training configuration found in save file, so the model was *not* compiled. Compile it manually.\n"
     ]
    },
    {
     "name": "stderr",
     "output_type": "stream",
     "text": [
      "WARNING:tensorflow:No training configuration found in save file, so the model was *not* compiled. Compile it manually.\n",
      "/Users/ferris/opt/anaconda3/envs/imcpq_env3/lib/python3.8/site-packages/skimage/morphology/_deprecated.py:5: skimage_deprecation: Function ``watershed`` is deprecated and will be removed in version 0.19. Use ``skimage.segmentation.watershed`` instead.\n",
      "  def watershed(image, markers=None, connectivity=1, offset=None, mask=None,\n"
     ]
    },
    {
     "name": "stdout",
     "output_type": "stream",
     "text": [
      "WARNING:tensorflow:No training configuration found in save file, so the model was *not* compiled. Compile it manually.\n"
     ]
    },
    {
     "name": "stderr",
     "output_type": "stream",
     "text": [
      "WARNING:tensorflow:No training configuration found in save file, so the model was *not* compiled. Compile it manually.\n",
      "/Users/ferris/opt/anaconda3/envs/imcpq_env3/lib/python3.8/site-packages/skimage/morphology/_deprecated.py:5: skimage_deprecation: Function ``watershed`` is deprecated and will be removed in version 0.19. Use ``skimage.segmentation.watershed`` instead.\n",
      "  def watershed(image, markers=None, connectivity=1, offset=None, mask=None,\n"
     ]
    }
   ],
   "source": [
    "base_path = './analysis/tiffs'\n",
    "for file in os.listdir(base_path):\n",
    "    if 'IA.tiff' in file:\n",
    "        ex_mask_fn = file.replace('IA.tiff', 'IA_mask.tiff')\n",
    "        if os.path.isfile(os.path.join(base_path, ex_mask_fn)):\n",
    "            continue\n",
    "        iao = os.path.join(base_path, file)\n",
    "        im = imread(iao)\n",
    "        image = np.expand_dims(im, axis=0)\n",
    "        rgb_im = create_rgb_image(image[:, :, :, 0:2], channel_colors=['green', 'blue'])\n",
    "        app = Mesmer()\n",
    "        seg_pred = app.predict(image[:, :, :, 0:2], image_mpp=0.5)\n",
    "        for_tiff = np.array(seg_pred[0],dtype='uint16')\n",
    "        fn = os.path.join(base_path, file.replace('IA.tiff', 'IA_mask.tiff'))\n",
    "        imsave(fn, for_tiff, check_contrast=False)"
   ]
  },
  {
   "cell_type": "markdown",
   "metadata": {},
   "source": [
    "### Remove Padding"
   ]
  },
  {
   "cell_type": "code",
   "execution_count": 85,
   "metadata": {},
   "outputs": [
    {
     "name": "stdout",
     "output_type": "stream",
     "text": [
      "./analysis/tiffs/TMA_2022_PDAC1_rev_s0_a10_ac_IA_mask.tiff\n",
      "(1000, 1000, 3)\n",
      "(49, 1000, 1000)\n",
      "0\n",
      "0\n",
      "(1000, 1000, 1)\n",
      "./analysis/tiffs/TMA_2022_PDAC1_rev_s0_a108_ac_IA_mask.tiff\n",
      "(1000, 1000, 3)\n",
      "(49, 1000, 1000)\n",
      "0\n",
      "0\n",
      "(1000, 1000, 1)\n",
      "./analysis/tiffs/TMA_2022_PDAC1_rev_s0_a57_ac_IA_mask.tiff\n",
      "(256, 381, 3)\n",
      "(49, 230, 381)\n",
      "0\n",
      "26\n",
      "(230, 381, 1)\n",
      "./analysis/tiffs/TMA_2022_PDAC1_rev_s0_a73_ac_IA_mask.tiff\n",
      "(1000, 1000, 3)\n",
      "(49, 1000, 1000)\n",
      "0\n",
      "0\n",
      "(1000, 1000, 1)\n",
      "./analysis/tiffs/TMA_2022_PDAC1_rev_s0_a111_ac_IA_mask.tiff\n",
      "(1000, 1000, 3)\n",
      "(49, 1000, 1000)\n",
      "0\n",
      "0\n",
      "(1000, 1000, 1)\n",
      "./analysis/tiffs/TMA_2022_PDAC1_rev_s0_a34_ac_IA_mask.tiff\n",
      "(1000, 1000, 3)\n",
      "(49, 1000, 1000)\n",
      "0\n",
      "0\n",
      "(1000, 1000, 1)\n",
      "./analysis/tiffs/TMA_2022_PDAC1_rev_s0_a92_ac_IA_mask.tiff\n",
      "(1000, 1000, 3)\n",
      "(49, 1000, 1000)\n",
      "0\n",
      "0\n",
      "(1000, 1000, 1)\n",
      "./analysis/tiffs/TMA_2022_PDAC1_rev_s0_a1_ac_IA_mask.tiff\n",
      "(381, 381, 3)\n",
      "(49, 381, 381)\n",
      "0\n",
      "0\n",
      "(381, 381, 1)\n",
      "./analysis/tiffs/TMA_2022_PDAC1_rev_s0_a123_ac_IA_mask.tiff\n",
      "(781, 1000, 3)\n",
      "(49, 781, 1000)\n",
      "0\n",
      "0\n",
      "(781, 1000, 1)\n",
      "./analysis/tiffs/TMA_2022_PDAC1_rev_s0_a41_ac_IA_mask.tiff\n",
      "(1000, 1000, 3)\n",
      "(49, 1000, 1000)\n",
      "0\n",
      "0\n",
      "(1000, 1000, 1)\n",
      "./analysis/tiffs/TMA_2022_PDAC1_rev_s0_a84_ac_IA_mask.tiff\n",
      "(1000, 1000, 3)\n",
      "(49, 1000, 1000)\n",
      "0\n",
      "0\n",
      "(1000, 1000, 1)\n",
      "./analysis/tiffs/TMA_2022_PDAC1_rev_s0_a22_ac_IA_mask.tiff\n",
      "(1000, 1000, 3)\n",
      "(49, 1000, 1000)\n",
      "0\n",
      "0\n",
      "(1000, 1000, 1)\n",
      "./analysis/tiffs/TMA_2022_PDAC1_rev_s0_a58_ac_IA_mask.tiff\n",
      "(256, 256, 3)\n",
      "(49, 137, 137)\n",
      "119\n",
      "119\n",
      "(137, 137, 1)\n",
      "./analysis/tiffs/TMA_2022_PDAC1_rev_s0_a65_ac_IA_mask.tiff\n",
      "(1000, 1000, 3)\n",
      "(49, 1000, 1000)\n",
      "0\n",
      "0\n",
      "(1000, 1000, 1)\n",
      "./analysis/tiffs/TMA_2022_PDAC1_rev_s0_a107_ac_IA_mask.tiff\n",
      "(1000, 1000, 3)\n",
      "(49, 1000, 1000)\n",
      "0\n",
      "0\n",
      "(1000, 1000, 1)\n",
      "./analysis/tiffs/TMA_2022_PDAC1_rev_s0_a100_ac_IA_mask.tiff\n",
      "(1000, 1000, 3)\n",
      "(49, 1000, 1000)\n",
      "0\n",
      "0\n",
      "(1000, 1000, 1)\n",
      "./analysis/tiffs/TMA_2022_PDAC1_rev_s0_a62_ac_IA_mask.tiff\n",
      "(1000, 1000, 3)\n",
      "(49, 1000, 1000)\n",
      "0\n",
      "0\n",
      "(1000, 1000, 1)\n",
      "./analysis/tiffs/TMA_2022_PDAC1_rev_s0_a25_ac_IA_mask.tiff\n",
      "(1000, 1000, 3)\n",
      "(49, 1000, 1000)\n",
      "0\n",
      "0\n",
      "(1000, 1000, 1)\n",
      "./analysis/tiffs/TMA_2022_PDAC1_rev_s0_a83_ac_IA_mask.tiff\n",
      "(1000, 1000, 3)\n",
      "(49, 1000, 1000)\n",
      "0\n",
      "0\n",
      "(1000, 1000, 1)\n",
      "./analysis/tiffs/TMA_2022_PDAC1_rev_s0_a18_ac_IA_mask.tiff\n",
      "(1000, 1000, 3)\n",
      "(49, 1000, 1000)\n",
      "0\n",
      "0\n",
      "(1000, 1000, 1)\n",
      "./analysis/tiffs/TMA_2022_PDAC1_rev_s0_a9_ac_IA_mask.tiff\n",
      "(906, 1000, 3)\n",
      "(49, 906, 1000)\n",
      "0\n",
      "0\n",
      "(906, 1000, 1)\n",
      "./analysis/tiffs/TMA_2022_PDAC1_rev_s0_a46_ac_IA_mask.tiff\n",
      "(1000, 1000, 3)\n",
      "(49, 1000, 1000)\n",
      "0\n",
      "0\n",
      "(1000, 1000, 1)\n",
      "./analysis/tiffs/TMA_2022_PDAC1_rev_s0_a119_ac_IA_mask.tiff\n",
      "(373, 373, 3)\n",
      "(49, 373, 373)\n",
      "0\n",
      "0\n",
      "(373, 373, 1)\n",
      "./analysis/tiffs/TMA_2022_PDAC1_rev_s0_a6_ac_IA_mask.tiff\n",
      "(1000, 1000, 3)\n",
      "(49, 1000, 1000)\n",
      "0\n",
      "0\n",
      "(1000, 1000, 1)\n",
      "./analysis/tiffs/TMA_2022_PDAC1_rev_s0_a95_ac_IA_mask.tiff\n",
      "(1000, 1000, 3)\n",
      "(49, 1000, 1000)\n",
      "0\n",
      "0\n",
      "(1000, 1000, 1)\n",
      "./analysis/tiffs/TMA_2022_PDAC1_rev_s0_a116_ac_IA_mask.tiff\n",
      "(1000, 1000, 3)\n",
      "(49, 1000, 1000)\n",
      "0\n",
      "0\n",
      "(1000, 1000, 1)\n",
      "./analysis/tiffs/TMA_2022_PDAC1_rev_s0_a49_ac_IA_mask.tiff\n",
      "(1000, 1000, 3)\n",
      "(49, 1000, 1000)\n",
      "0\n",
      "0\n",
      "(1000, 1000, 1)\n",
      "./analysis/tiffs/TMA_2022_PDAC1_rev_s0_a74_ac_IA_mask.tiff\n",
      "(944, 1000, 3)\n",
      "(49, 944, 1000)\n",
      "0\n",
      "0\n",
      "(944, 1000, 1)\n",
      "./analysis/tiffs/TMA_2022_PDAC1_rev_s0_a50_ac_IA_mask.tiff\n",
      "(1000, 1000, 3)\n",
      "(49, 1000, 1000)\n",
      "0\n",
      "0\n",
      "(1000, 1000, 1)\n",
      "./analysis/tiffs/TMA_2022_PDAC1_rev_s0_a17_ac_IA_mask.tiff\n",
      "(1000, 1000, 3)\n",
      "(49, 1000, 1000)\n",
      "0\n",
      "0\n",
      "(1000, 1000, 1)\n",
      "./analysis/tiffs/TMA_2022_PDAC1_rev_s0_a24_ac_IA_mask.tiff\n",
      "(1000, 1000, 3)\n",
      "(49, 1000, 1000)\n",
      "0\n",
      "0\n",
      "(1000, 1000, 1)\n",
      "./analysis/tiffs/TMA_2022_PDAC1_rev_s0_a82_ac_IA_mask.tiff\n",
      "(1000, 1000, 3)\n",
      "(49, 1000, 1000)\n",
      "0\n",
      "0\n",
      "(1000, 1000, 1)\n",
      "./analysis/tiffs/TMA_2022_PDAC1_rev_s0_a19_ac_IA_mask.tiff\n",
      "(1000, 1000, 3)\n",
      "(49, 1000, 1000)\n",
      "0\n",
      "0\n",
      "(1000, 1000, 1)\n",
      "./analysis/tiffs/TMA_2022_PDAC1_rev_s0_a101_ac_IA_mask.tiff\n",
      "(1000, 1000, 3)\n",
      "(49, 1000, 1000)\n",
      "0\n",
      "0\n",
      "(1000, 1000, 1)\n",
      "./analysis/tiffs/TMA_2022_PDAC1_rev_s0_a63_ac_IA_mask.tiff\n",
      "(1000, 1000, 3)\n",
      "(49, 1000, 1000)\n",
      "0\n",
      "0\n",
      "(1000, 1000, 1)\n",
      "./analysis/tiffs/TMA_2022_PDAC1_rev_s0_a47_ac_IA_mask.tiff\n",
      "(1000, 1000, 3)\n",
      "(49, 1000, 1000)\n",
      "0\n",
      "0\n",
      "(1000, 1000, 1)\n",
      "./analysis/tiffs/TMA_2022_PDAC1_rev_s0_a118_ac_IA_mask.tiff\n",
      "(1000, 1000, 3)\n",
      "(49, 1000, 1000)\n",
      "0\n",
      "0\n",
      "(1000, 1000, 1)\n",
      "./analysis/tiffs/TMA_2022_PDAC1_rev_s0_a8_ac_IA_mask.tiff\n",
      "(1000, 1000, 3)\n",
      "(49, 1000, 1000)\n",
      "0\n",
      "0\n",
      "(1000, 1000, 1)\n",
      "./analysis/tiffs/TMA_2022_PDAC1_rev_s0_a117_ac_IA_mask.tiff\n",
      "(1000, 1000, 3)\n",
      "(49, 1000, 1000)\n",
      "0\n",
      "0\n",
      "(1000, 1000, 1)\n",
      "./analysis/tiffs/TMA_2022_PDAC1_rev_s0_a48_ac_IA_mask.tiff\n",
      "(1000, 1000, 3)\n",
      "(49, 1000, 1000)\n",
      "0\n",
      "0\n",
      "(1000, 1000, 1)\n",
      "./analysis/tiffs/TMA_2022_PDAC1_rev_s0_a75_ac_IA_mask.tiff\n",
      "(811, 1000, 3)\n",
      "(49, 811, 1000)\n",
      "0\n",
      "0\n",
      "(811, 1000, 1)\n",
      "./analysis/tiffs/TMA_2022_PDAC1_rev_s0_a7_ac_IA_mask.tiff\n",
      "(1000, 1000, 3)\n",
      "(49, 1000, 1000)\n",
      "0\n",
      "0\n",
      "(1000, 1000, 1)\n",
      "./analysis/tiffs/TMA_2022_PDAC1_rev_s0_a94_ac_IA_mask.tiff\n",
      "(1000, 1000, 3)\n",
      "(49, 1000, 1000)\n",
      "0\n",
      "0\n",
      "(1000, 1000, 1)\n",
      "./analysis/tiffs/TMA_2022_PDAC1_rev_s0_a32_ac_IA_mask.tiff\n",
      "(797, 1000, 3)\n",
      "(49, 797, 1000)\n",
      "0\n",
      "0\n",
      "(797, 1000, 1)\n",
      "./analysis/tiffs/TMA_2022_PDAC1_rev_s0_a16_ac_IA_mask.tiff\n",
      "(1000, 1000, 3)\n",
      "(49, 1000, 1000)\n",
      "0\n",
      "0\n",
      "(1000, 1000, 1)\n",
      "./analysis/tiffs/TMA_2022_PDAC1_rev_s0_a51_ac_IA_mask.tiff\n",
      "(1000, 1000, 3)\n",
      "(49, 1000, 1000)\n",
      "0\n",
      "0\n",
      "(1000, 1000, 1)\n",
      "./analysis/tiffs/TMA_2022_PDAC1_rev_s0_a109_ac_IA_mask.tiff\n",
      "(804, 256, 3)\n",
      "(49, 804, 213)\n",
      "43\n",
      "0\n",
      "(804, 213, 1)\n",
      "./analysis/tiffs/TMA_2022_PDAC1_rev_s0_a56_ac_IA_mask.tiff\n",
      "(1000, 1000, 3)\n",
      "(49, 1000, 1000)\n",
      "0\n",
      "0\n",
      "(1000, 1000, 1)\n",
      "./analysis/tiffs/TMA_2022_PDAC1_rev_s0_a11_ac_IA_mask.tiff\n",
      "(898, 1000, 3)\n",
      "(49, 898, 1000)\n",
      "0\n",
      "0\n",
      "(898, 1000, 1)\n",
      "./analysis/tiffs/TMA_2022_PDAC1_rev_s0_a35_ac_IA_mask.tiff\n",
      "(1000, 1000, 3)\n",
      "(49, 1000, 1000)\n",
      "0\n",
      "0\n",
      "(1000, 1000, 1)\n",
      "./analysis/tiffs/TMA_2022_PDAC1_rev_s0_a72_ac_IA_mask.tiff\n",
      "(1000, 1000, 3)\n",
      "(49, 1000, 1000)\n",
      "0\n",
      "0\n",
      "(1000, 1000, 1)\n",
      "./analysis/tiffs/TMA_2022_PDAC1_rev_s0_a110_ac_IA_mask.tiff\n",
      "(1000, 1000, 3)\n",
      "(49, 1000, 1000)\n",
      "0\n",
      "0\n",
      "(1000, 1000, 1)\n",
      "./analysis/tiffs/TMA_2022_PDAC1_rev_s0_a122_ac_IA_mask.tiff\n",
      "(362, 362, 3)\n",
      "(49, 362, 362)\n",
      "0\n",
      "0\n",
      "(362, 362, 1)\n",
      "./analysis/tiffs/TMA_2022_PDAC1_rev_s0_a40_ac_IA_mask.tiff\n",
      "(1000, 1000, 3)\n",
      "(49, 1000, 1000)\n",
      "0\n",
      "0\n",
      "(1000, 1000, 1)\n",
      "./analysis/tiffs/TMA_2022_PDAC1_rev_s0_a59_ac_IA_mask.tiff\n",
      "(380, 380, 3)\n",
      "(49, 380, 380)\n",
      "0\n",
      "0\n",
      "(380, 380, 1)\n",
      "./analysis/tiffs/TMA_2022_PDAC1_rev_s0_a64_ac_IA_mask.tiff\n",
      "(908, 1000, 3)\n",
      "(49, 908, 1000)\n",
      "0\n",
      "0\n",
      "(908, 1000, 1)\n",
      "./analysis/tiffs/TMA_2022_PDAC1_rev_s0_a106_ac_IA_mask.tiff\n",
      "(1000, 1000, 3)\n",
      "(49, 1000, 1000)\n",
      "0\n",
      "0\n",
      "(1000, 1000, 1)\n",
      "./analysis/tiffs/TMA_2022_PDAC1_rev_s0_a85_ac_IA_mask.tiff\n",
      "(1000, 1000, 3)\n",
      "(49, 1000, 1000)\n",
      "0\n",
      "0\n",
      "(1000, 1000, 1)\n",
      "./analysis/tiffs/TMA_2022_PDAC1_rev_s0_a23_ac_IA_mask.tiff\n",
      "(1000, 1000, 3)\n",
      "(49, 1000, 1000)\n",
      "0\n",
      "0\n",
      "(1000, 1000, 1)\n",
      "./analysis/tiffs/TMA_2022_PDAC1_rev_s0_a45_ac_IA_mask.tiff\n",
      "(1000, 1000, 3)\n",
      "(49, 1000, 1000)\n",
      "0\n",
      "0\n",
      "(1000, 1000, 1)\n",
      "./analysis/tiffs/TMA_2022_PDAC1_rev_s0_a78_ac_IA_mask.tiff\n",
      "(1000, 1000, 3)\n",
      "(49, 1000, 1000)\n",
      "0\n",
      "0\n",
      "(1000, 1000, 1)\n",
      "./analysis/tiffs/TMA_2022_PDAC1_rev_s0_a99_ac_IA_mask.tiff\n",
      "(1000, 1000, 3)\n",
      "(49, 1000, 1000)\n",
      "0\n",
      "0\n",
      "(1000, 1000, 1)\n",
      "./analysis/tiffs/TMA_2022_PDAC1_rev_s0_a80_ac_IA_mask.tiff\n",
      "(1000, 1000, 3)\n",
      "(49, 1000, 1000)\n",
      "0\n",
      "0\n",
      "(1000, 1000, 1)\n",
      "./analysis/tiffs/TMA_2022_PDAC1_rev_s0_a26_ac_IA_mask.tiff\n",
      "(1000, 1000, 3)\n",
      "(49, 1000, 1000)\n",
      "0\n",
      "0\n",
      "(1000, 1000, 1)\n",
      "./analysis/tiffs/TMA_2022_PDAC1_rev_s0_a103_ac_IA_mask.tiff\n",
      "(731, 1000, 3)\n",
      "(49, 731, 1000)\n",
      "0\n",
      "0\n",
      "(731, 1000, 1)\n",
      "./analysis/tiffs/TMA_2022_PDAC1_rev_s0_a61_ac_IA_mask.tiff\n",
      "(1000, 1000, 3)\n",
      "(49, 1000, 1000)\n",
      "0\n",
      "0\n",
      "(1000, 1000, 1)\n",
      "./analysis/tiffs/TMA_2022_PDAC1_rev_s0_a29_ac_IA_mask.tiff\n",
      "(816, 1000, 3)\n",
      "(49, 816, 1000)\n",
      "0\n",
      "0\n",
      "(816, 1000, 1)\n",
      "./analysis/tiffs/TMA_2022_PDAC1_rev_s0_a14_ac_IA_mask.tiff\n",
      "(1000, 1000, 3)\n",
      "(49, 1000, 1000)\n",
      "0\n",
      "0\n",
      "(1000, 1000, 1)\n",
      "./analysis/tiffs/TMA_2022_PDAC1_rev_s0_a115_ac_IA_mask.tiff\n",
      "(1000, 1000, 3)\n",
      "(49, 1000, 1000)\n",
      "0\n",
      "0\n",
      "(1000, 1000, 1)\n",
      "./analysis/tiffs/TMA_2022_PDAC1_rev_s0_a77_ac_IA_mask.tiff\n",
      "(1000, 1000, 3)\n",
      "(49, 1000, 1000)\n",
      "0\n",
      "0\n",
      "(1000, 1000, 1)\n",
      "./analysis/tiffs/TMA_2022_PDAC1_rev_s0_a5_ac_IA_mask.tiff\n",
      "(1000, 1000, 3)\n",
      "(49, 1000, 1000)\n",
      "0\n",
      "0\n",
      "(1000, 1000, 1)\n",
      "./analysis/tiffs/TMA_2022_PDAC1_rev_s0_a30_ac_IA_mask.tiff\n",
      "(1000, 1000, 3)\n",
      "(49, 1000, 1000)\n",
      "0\n",
      "0\n",
      "(1000, 1000, 1)\n",
      "./analysis/tiffs/TMA_2022_PDAC1_rev_s0_a96_ac_IA_mask.tiff\n",
      "(1000, 1000, 3)\n",
      "(49, 1000, 1000)\n",
      "0\n",
      "0\n",
      "(1000, 1000, 1)\n",
      "./analysis/tiffs/TMA_2022_PDAC1_rev_s0_a91_ac_IA_mask.tiff\n",
      "(1000, 1000, 3)\n",
      "(49, 1000, 1000)\n",
      "0\n",
      "0\n",
      "(1000, 1000, 1)\n",
      "./analysis/tiffs/TMA_2022_PDAC1_rev_s0_a37_ac_IA_mask.tiff\n",
      "(1000, 1000, 3)\n",
      "(49, 1000, 1000)\n",
      "0\n",
      "0\n",
      "(1000, 1000, 1)\n"
     ]
    },
    {
     "name": "stdout",
     "output_type": "stream",
     "text": [
      "./analysis/tiffs/TMA_2022_PDAC1_rev_s0_a2_ac_IA_mask.tiff\n",
      "(256, 256, 3)\n",
      "(49, 123, 123)\n",
      "133\n",
      "133\n",
      "(123, 123, 1)\n",
      "./analysis/tiffs/TMA_2022_PDAC1_rev_s0_a70_ac_IA_mask.tiff\n",
      "(1000, 1000, 3)\n",
      "(49, 1000, 1000)\n",
      "0\n",
      "0\n",
      "(1000, 1000, 1)\n",
      "./analysis/tiffs/TMA_2022_PDAC1_rev_s0_a112_ac_IA_mask.tiff\n",
      "(256, 1000, 3)\n",
      "(49, 219, 1000)\n",
      "0\n",
      "37\n",
      "(219, 1000, 1)\n",
      "./analysis/tiffs/TMA_2022_PDAC1_rev_s0_a54_ac_IA_mask.tiff\n",
      "(1000, 1000, 3)\n",
      "(49, 1000, 1000)\n",
      "0\n",
      "0\n",
      "(1000, 1000, 1)\n",
      "./analysis/tiffs/TMA_2022_PDAC1_rev_s0_a69_ac_IA_mask.tiff\n",
      "(1000, 1000, 3)\n",
      "(49, 1000, 1000)\n",
      "0\n",
      "0\n",
      "(1000, 1000, 1)\n",
      "./analysis/tiffs/TMA_2022_PDAC1_rev_s0_a88_ac_IA_mask.tiff\n",
      "(1000, 1000, 3)\n",
      "(49, 1000, 1000)\n",
      "0\n",
      "0\n",
      "(1000, 1000, 1)\n",
      "./analysis/tiffs/TMA_2022_PDAC1_rev_s0_a13_ac_IA_mask.tiff\n",
      "(1000, 1000, 3)\n",
      "(49, 1000, 1000)\n",
      "0\n",
      "0\n",
      "(1000, 1000, 1)\n",
      "./analysis/tiffs/TMA_2022_PDAC1_rev_s0_a66_ac_IA_mask.tiff\n",
      "(1000, 1000, 3)\n",
      "(49, 1000, 1000)\n",
      "0\n",
      "0\n",
      "(1000, 1000, 1)\n",
      "./analysis/tiffs/TMA_2022_PDAC1_rev_s0_a104_ac_IA_mask.tiff\n",
      "(1000, 1000, 3)\n",
      "(49, 1000, 1000)\n",
      "0\n",
      "0\n",
      "(1000, 1000, 1)\n",
      "./analysis/tiffs/TMA_2022_PDAC1_rev_s0_a21_ac_IA_mask.tiff\n",
      "(935, 701, 3)\n",
      "(49, 935, 701)\n",
      "0\n",
      "0\n",
      "(935, 701, 1)\n",
      "./analysis/tiffs/TMA_2022_PDAC1_rev_s0_a87_ac_IA_mask.tiff\n",
      "(1000, 1000, 3)\n",
      "(49, 1000, 1000)\n",
      "0\n",
      "0\n",
      "(1000, 1000, 1)\n",
      "./analysis/tiffs/TMA_2022_PDAC1_rev_s0_a38_ac_IA_mask.tiff\n",
      "(435, 1000, 3)\n",
      "(49, 435, 1000)\n",
      "0\n",
      "0\n",
      "(435, 1000, 1)\n",
      "./analysis/tiffs/TMA_2022_PDAC1_rev_s0_a120_ac_IA_mask.tiff\n",
      "(256, 256, 3)\n",
      "(49, 137, 137)\n",
      "119\n",
      "119\n",
      "(137, 137, 1)\n",
      "./analysis/tiffs/TMA_2022_PDAC1_rev_s0_a42_ac_IA_mask.tiff\n",
      "(1000, 1000, 3)\n",
      "(49, 1000, 1000)\n",
      "0\n",
      "0\n",
      "(1000, 1000, 1)\n",
      "./analysis/tiffs/TMA_2022_PDAC1_rev_s0_a71_ac_IA_mask.tiff\n",
      "(1000, 1000, 3)\n",
      "(49, 1000, 1000)\n",
      "0\n",
      "0\n",
      "(1000, 1000, 1)\n",
      "./analysis/tiffs/TMA_2022_PDAC1_rev_s0_a113_ac_IA_mask.tiff\n",
      "(1000, 1000, 3)\n",
      "(49, 1000, 1000)\n",
      "0\n",
      "0\n",
      "(1000, 1000, 1)\n",
      "./analysis/tiffs/TMA_2022_PDAC1_rev_s0_a90_ac_IA_mask.tiff\n",
      "(1000, 1000, 3)\n",
      "(49, 1000, 1000)\n",
      "0\n",
      "0\n",
      "(1000, 1000, 1)\n",
      "./analysis/tiffs/TMA_2022_PDAC1_rev_s0_a36_ac_IA_mask.tiff\n",
      "(1000, 1000, 3)\n",
      "(49, 1000, 1000)\n",
      "0\n",
      "0\n",
      "(1000, 1000, 1)\n",
      "./analysis/tiffs/TMA_2022_PDAC1_rev_s0_a3_ac_IA_mask.tiff\n",
      "(380, 380, 3)\n",
      "(49, 380, 380)\n",
      "0\n",
      "0\n",
      "(380, 380, 1)\n",
      "./analysis/tiffs/TMA_2022_PDAC1_rev_s0_a89_ac_IA_mask.tiff\n",
      "(1000, 1000, 3)\n",
      "(49, 1000, 1000)\n",
      "0\n",
      "0\n",
      "(1000, 1000, 1)\n",
      "./analysis/tiffs/TMA_2022_PDAC1_rev_s0_a12_ac_IA_mask.tiff\n",
      "(1000, 1000, 3)\n",
      "(49, 1000, 1000)\n",
      "0\n",
      "0\n",
      "(1000, 1000, 1)\n",
      "./analysis/tiffs/TMA_2022_PDAC1_rev_s0_a55_ac_IA_mask.tiff\n",
      "(942, 1000, 3)\n",
      "(49, 942, 1000)\n",
      "0\n",
      "0\n",
      "(942, 1000, 1)\n",
      "./analysis/tiffs/TMA_2022_PDAC1_rev_s0_a68_ac_IA_mask.tiff\n",
      "(1000, 1000, 3)\n",
      "(49, 1000, 1000)\n",
      "0\n",
      "0\n",
      "(1000, 1000, 1)\n",
      "./analysis/tiffs/TMA_2022_PDAC1_rev_s0_a20_ac_IA_mask.tiff\n",
      "(1000, 1000, 3)\n",
      "(49, 1000, 1000)\n",
      "0\n",
      "0\n",
      "(1000, 1000, 1)\n",
      "./analysis/tiffs/TMA_2022_PDAC1_rev_s0_a86_ac_IA_mask.tiff\n",
      "(1000, 1000, 3)\n",
      "(49, 1000, 1000)\n",
      "0\n",
      "0\n",
      "(1000, 1000, 1)\n",
      "./analysis/tiffs/TMA_2022_PDAC1_rev_s0_a67_ac_IA_mask.tiff\n",
      "(906, 1000, 3)\n",
      "(49, 906, 1000)\n",
      "0\n",
      "0\n",
      "(906, 1000, 1)\n",
      "./analysis/tiffs/TMA_2022_PDAC1_rev_s0_a105_ac_IA_mask.tiff\n",
      "(1000, 1000, 3)\n",
      "(49, 1000, 1000)\n",
      "0\n",
      "0\n",
      "(1000, 1000, 1)\n",
      "./analysis/tiffs/TMA_2022_PDAC1_rev_s0_a121_ac_IA_mask.tiff\n",
      "(389, 389, 3)\n",
      "(49, 389, 389)\n",
      "0\n",
      "0\n",
      "(389, 389, 1)\n",
      "./analysis/tiffs/TMA_2022_PDAC1_rev_s0_a43_ac_IA_mask.tiff\n",
      "(1000, 1000, 3)\n",
      "(49, 1000, 1000)\n",
      "0\n",
      "0\n",
      "(1000, 1000, 1)\n",
      "./analysis/tiffs/TMA_2022_PDAC1_rev_s0_a39_ac_IA_mask.tiff\n",
      "(1000, 1000, 3)\n",
      "(49, 1000, 1000)\n",
      "0\n",
      "0\n",
      "(1000, 1000, 1)\n",
      "./analysis/tiffs/TMA_2022_PDAC1_rev_s0_a98_ac_IA_mask.tiff\n",
      "(1000, 1000, 3)\n",
      "(49, 1000, 1000)\n",
      "0\n",
      "0\n",
      "(1000, 1000, 1)\n",
      "./analysis/tiffs/TMA_2022_PDAC1_rev_s0_a44_ac_IA_mask.tiff\n",
      "(1000, 1000, 3)\n",
      "(49, 1000, 1000)\n",
      "0\n",
      "0\n",
      "(1000, 1000, 1)\n",
      "./analysis/tiffs/TMA_2022_PDAC1_rev_s0_a79_ac_IA_mask.tiff\n",
      "(1000, 1000, 3)\n",
      "(49, 1000, 1000)\n",
      "0\n",
      "0\n",
      "(1000, 1000, 1)\n",
      "./analysis/tiffs/TMA_2022_PDAC1_rev_s0_a102_ac_IA_mask.tiff\n",
      "(1000, 1000, 3)\n",
      "(49, 1000, 1000)\n",
      "0\n",
      "0\n",
      "(1000, 1000, 1)\n",
      "./analysis/tiffs/TMA_2022_PDAC1_rev_s0_a60_ac_IA_mask.tiff\n",
      "(386, 386, 3)\n",
      "(49, 386, 386)\n",
      "0\n",
      "0\n",
      "(386, 386, 1)\n",
      "./analysis/tiffs/TMA_2022_PDAC1_rev_s0_a81_ac_IA_mask.tiff\n",
      "(1000, 1000, 3)\n",
      "(49, 1000, 1000)\n",
      "0\n",
      "0\n",
      "(1000, 1000, 1)\n",
      "./analysis/tiffs/TMA_2022_PDAC1_rev_s0_a27_ac_IA_mask.tiff\n",
      "(821, 1000, 3)\n",
      "(49, 821, 1000)\n",
      "0\n",
      "0\n",
      "(821, 1000, 1)\n",
      "./analysis/tiffs/TMA_2022_PDAC1_rev_s0_a52_ac_IA_mask.tiff\n",
      "(1000, 1000, 3)\n",
      "(49, 1000, 1000)\n",
      "0\n",
      "0\n",
      "(1000, 1000, 1)\n",
      "./analysis/tiffs/TMA_2022_PDAC1_rev_s0_a28_ac_IA_mask.tiff\n",
      "(1000, 1000, 3)\n",
      "(49, 1000, 1000)\n",
      "0\n",
      "0\n",
      "(1000, 1000, 1)\n",
      "./analysis/tiffs/TMA_2022_PDAC1_rev_s0_a15_ac_IA_mask.tiff\n",
      "(1000, 1000, 3)\n",
      "(49, 1000, 1000)\n",
      "0\n",
      "0\n",
      "(1000, 1000, 1)\n",
      "./analysis/tiffs/TMA_2022_PDAC1_rev_s0_a4_ac_IA_mask.tiff\n",
      "(341, 341, 3)\n",
      "(49, 341, 341)\n",
      "0\n",
      "0\n",
      "(341, 341, 1)\n",
      "./analysis/tiffs/TMA_2022_PDAC1_rev_s0_a31_ac_IA_mask.tiff\n",
      "(1000, 1000, 3)\n",
      "(49, 1000, 1000)\n",
      "0\n",
      "0\n",
      "(1000, 1000, 1)\n",
      "./analysis/tiffs/TMA_2022_PDAC1_rev_s0_a97_ac_IA_mask.tiff\n",
      "(1000, 1000, 3)\n",
      "(49, 1000, 1000)\n",
      "0\n",
      "0\n",
      "(1000, 1000, 1)\n",
      "./analysis/tiffs/TMA_2022_PDAC1_rev_s0_a114_ac_IA_mask.tiff\n",
      "(1000, 1000, 3)\n",
      "(49, 1000, 1000)\n",
      "0\n",
      "0\n",
      "(1000, 1000, 1)\n",
      "./analysis/tiffs/TMA_2022_PDAC1_rev_s0_a76_ac_IA_mask.tiff\n",
      "(1000, 1000, 3)\n",
      "(49, 1000, 1000)\n",
      "0\n",
      "0\n",
      "(1000, 1000, 1)\n"
     ]
    }
   ],
   "source": [
    "#remove border from masks\n",
    "#aka, remove the difference between the full tiff file and the IA file\n",
    "base_path = './analysis/tiffs'\n",
    "for file in os.listdir(base_path):\n",
    "    if 'IA_mask.tiff' in file:\n",
    "        mask_tiff_name = os.path.join(base_path, file)\n",
    "        full_tiff_name = file.replace('_IA_mask', '_full')\n",
    "        IA_tiff_name = file.replace('_IA_mask', '_IA')\n",
    "        \n",
    "        mask_im = imread(mask_tiff_name)\n",
    "        full_im = imread(os.path.join(base_path, full_tiff_name))\n",
    "        IA_im = imread(os.path.join(base_path, IA_tiff_name))\n",
    "        \n",
    "        #h_padded, w_padded, c_padded = IA_im.shape\n",
    "        #h, w, c = full_im.shape\n",
    "        w_padded, h_padded, c_padded = IA_im.shape\n",
    "        c, w, h = full_im.shape\n",
    "       #'need to add a check that channel is in the right place'\n",
    "        print(mask_tiff_name)\n",
    "        print(IA_im.shape)\n",
    "        print(full_im.shape)\n",
    "        height_to_remove = h_padded - h \n",
    "        width_to_remove = w_padded - w\n",
    "        \n",
    "        print(height_to_remove)\n",
    "        print(width_to_remove)\n",
    "\n",
    "        if height_to_remove != 0:\n",
    "            mask_im = mask_im[ 0 : w_padded, height_to_remove : h_padded] \n",
    "        if width_to_remove != 0:\n",
    "            mask_im = mask_im[width_to_remove : w_padded, 0: h] \n",
    "         \n",
    "        for_tiff = np.array(mask_im, dtype='uint16') \n",
    "        \n",
    "        print(mask_im.shape)\n",
    "        imsave(mask_tiff_name, for_tiff, check_contrast=False)"
   ]
  },
  {
   "cell_type": "markdown",
   "metadata": {},
   "source": [
    "## Expressions"
   ]
  },
  {
   "cell_type": "code",
   "execution_count": 86,
   "metadata": {},
   "outputs": [],
   "source": [
    "#Reading files\n",
    "current_path = os.path.abspath(os.getcwd())\n",
    "folder_path_base = os.path.join(current_path, 'analysis', 'tiffs')\n",
    "folder_data_base = os.path.join(current_path, 'data')\n",
    "file_path_csv_panel = os.path.join(current_path, 'config', 'Panel.csv') \n",
    "file_path_sample = os.path.join(current_path, 'analysis', 'output', 'Sample.csv')\n",
    "output_measurments_file = os.path.join(current_path, 'analysis', 'output', 'measurements.csv')\n",
    "sample_df = pd.read_csv(file_path_sample)\n",
    "panel_df = pd.read_csv(os.path.join(file_path_csv_panel))\n",
    "panel = get_panel(folder_path_base, panel_df)"
   ]
  },
  {
   "cell_type": "code",
   "execution_count": 87,
   "metadata": {},
   "outputs": [],
   "source": [
    "expressions = df_measured(folder_path_base, sample_df, panel) #assertion error occurs when I have overwritten the correct matching mask, or when there is no corresponding mask file\n",
    "expressions.to_csv('./analysis/output/measurements.csv', index=False)"
   ]
  },
  {
   "cell_type": "code",
   "execution_count": null,
   "metadata": {},
   "outputs": [],
   "source": []
  }
 ],
 "metadata": {
  "kernelspec": {
   "display_name": "Python 3 (ipykernel)",
   "language": "python",
   "name": "python3"
  },
  "language_info": {
   "codemirror_mode": {
    "name": "ipython",
    "version": 3
   },
   "file_extension": ".py",
   "mimetype": "text/x-python",
   "name": "python",
   "nbconvert_exporter": "python",
   "pygments_lexer": "ipython3",
   "version": "3.8.16"
  },
  "vscode": {
   "interpreter": {
    "hash": "92a8f09ebdee7a7ccc900142fc07ddd439f7ce2aa1bbfea9024db421bec27d89"
   }
  }
 },
 "nbformat": 4,
 "nbformat_minor": 4
}
