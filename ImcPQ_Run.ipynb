{
 "cells": [
  {
   "cell_type": "markdown",
   "metadata": {},
   "source": [
    "# ImcPQ\n",
    "\n",
    "### @Version3 Nov 2022 by Somi Afiuni"
   ]
  },
  {
   "cell_type": "markdown",
   "metadata": {},
   "source": [
    "### This module provides IMC segmentaion and expressions."
   ]
  },
  {
   "cell_type": "code",
   "execution_count": 2,
   "metadata": {},
   "outputs": [],
   "source": [
    "import os\n",
    "from os import listdir\n",
    "from glob import glob\n",
    "import pathlib\n",
    "import re\n",
    "import pandas as pd\n",
    "import numpy as np\n",
    "from numpy import array\n",
    "from imctools.converters import ome2analysis\n",
    "from imctools.converters import ome2histocat\n",
    "from imctools.converters import mcdfolder2imcfolder\n",
    "from imctools.converters import exportacquisitioncsv\n",
    "import skimage\n",
    "from skimage.transform import rescale, resize\n",
    "from skimage import exposure\n",
    "from shutil import copyfile\n",
    "from skimage.io import imread, imsave\n",
    "from matplotlib import pyplot as plt\n",
    "from deepcell.utils.plot_utils import create_rgb_image\n",
    "from deepcell.applications import Mesmer\n",
    "from imcpq_exp import get_panel, df_measured"
   ]
  },
  {
   "cell_type": "code",
   "execution_count": 5,
   "metadata": {},
   "outputs": [],
   "source": [
    "folder_path_base = './analysis'\n",
    "folder_data_base = './data'\n",
    "folder_config_base = './config'\n",
    "folders_path_inputs = ['./data']\n",
    "input_file_regexp = '.*.zip'\n",
    "file_path_csv_panel = './config/Panel.csv'\n",
    "csv_panel_metal = 'MetalTag'\n",
    "csv_panel_full = 'full'\n",
    "pathlib.Path(folder_path_base).mkdir(parents=True, exist_ok=True)\n",
    "pathlib.Path(folder_data_base).mkdir(parents=True, exist_ok=True)\n",
    "pathlib.Path(folder_config_base).mkdir(parents=True, exist_ok=True)\n",
    "folder_path_base = pathlib.Path(folder_path_base)\n",
    "folders_path_inputs = [pathlib.Path(f) for f in folders_path_inputs]\n",
    "folder_path_analysis = folder_path_base / 'tiffs'\n",
    "folder_path_ome= folder_path_base / 'ometiff'\n",
    "folder_path_cp = folder_path_base / 'output'\n",
    "folder_path_cp_input = folder_path_base / 'output'\n",
    "suffix_full = '_full'\n",
    "suffix_mask = '_mask.tiff'\n",
    "failed_images = list()\n",
    "for fol in [folder_path_analysis,\n",
    "            folder_path_ome, folder_path_cp]:\n",
    "    if not fol.exists():\n",
    "        fol.mkdir(parents=True)"
   ]
  },
  {
   "cell_type": "markdown",
   "metadata": {},
   "source": [
    "### Save zipped data (including an mcd file) in ImcPQ > data folder\n",
    "### Save panel as \"Panel\" in the ImcPQ> config folder. Panel should include MetalTag, Target, full, and IA columns."
   ]
  },
  {
   "cell_type": "code",
   "execution_count": 17,
   "metadata": {},
   "outputs": [],
   "source": [
    "failed_images = list()\n",
    "re_fn = re.compile(input_file_regexp)\n",
    "\n",
    "for fol in folders_path_inputs:\n",
    "    for fn in fol.glob('*'):\n",
    "        if re_fn.match(fn.name):\n",
    "            mcdfolder2imcfolder.mcdfolder_to_imcfolder(fn, output_folder=folder_path_ome)\n",
    "exportacquisitioncsv.export_acquisition_csv(folder_path_ome, output_folder=folder_path_cp_input)\n",
    "list_analysis_stacks =[\n",
    "    (csv_panel_full, suffix_full, 0)]\n",
    "            "
   ]
  },
  {
   "cell_type": "code",
   "execution_count": 18,
   "metadata": {},
   "outputs": [
    {
     "name": "stdout",
     "output_type": "stream",
     "text": [
      "<function omefolder_to_analysisfolder at 0x7fc9b1cbd550>\n"
     ]
    }
   ],
   "source": [
    "ome2analysis.omefolder_to_analysisfolder(folder_path_ome, folder_path_analysis, panel_csv_file=file_path_csv_panel,\n",
    "                                         analysis_stacks=(list_analysis_stacks), metalcolumn=csv_panel_metal)\n",
    "print(ome2analysis.omefolder_to_analysisfolder)"
   ]
  },
  {
   "cell_type": "markdown",
   "metadata": {},
   "source": [
    "## Sample Map"
   ]
  },
  {
   "cell_type": "code",
   "execution_count": 19,
   "metadata": {},
   "outputs": [],
   "source": [
    "csv_ac_md = os.path.join(folder_path_cp_input, 'acquisition_metadata.csv')\n",
    "ac_md = pd.read_csv(csv_ac_md, sep=',')\n",
    "ac_md['TiffName'] = ac_md.AcSession.map(str)+\"_s0\"+\"_a\"+ ac_md.id.map(str)+\"_ac_full.tiff\"\n",
    "ac_md['ROI_id'] = ac_md.AcSession.map(str) +'_'+ ac_md.id.map(str)\n",
    "tiffToSample = ac_md[['TiffName', 'description', 'ROI_id']]\n",
    "tiffToSample = tiffToSample.rename(columns = {'description' : 'Sample', 'ROI_id' : 'SampleName'})\n",
    "tiffToSample.to_csv('./analysis/output/Sample.csv', index=False)"
   ]
  },
  {
   "cell_type": "markdown",
   "metadata": {},
   "source": [
    "## IA Generating"
   ]
  },
  {
   "cell_type": "code",
   "execution_count": 22,
   "metadata": {},
   "outputs": [],
   "source": [
    "folder_path_base = pathlib.Path(folder_path_base)\n",
    "folder_path_analysis = folder_path_base / 'tiffs'\n",
    "folder_path_base = './analysis'\n",
    "def find_csv_filenames( path_to_dir, suffix=\".csv\" ):\n",
    "    filenames = listdir(path_to_dir)\n",
    "    return [ filename for filename in filenames if filename.endswith( suffix ) ]\n",
    "csv_tiff_files = find_csv_filenames(folder_path_analysis)\n",
    "csv_channel_seq = os.path.join(folder_path_analysis, csv_tiff_files[0])\n",
    "df_ch = pd.read_csv(csv_channel_seq, sep=',', header=None)\n",
    "df_ch.columns = ['MetalTag']\n",
    "df = pd.read_csv(file_path_csv_panel, sep=',')\n",
    "df = df[df['full'] == 1]\n",
    "join_df = df_ch.set_index('MetalTag').join(df.set_index('MetalTag'))\n",
    "join_df['metal_ch_index']= range(1, len(join_df) + 1)\n",
    "IA = list(set(join_df[join_df.IA>0].IA)) \n",
    "start_dir = folder_path_analysis\n",
    "\n"
   ]
  },
  {
   "cell_type": "code",
   "execution_count": 25,
   "metadata": {},
   "outputs": [
    {
     "name": "stdout",
     "output_type": "stream",
     "text": [
      "21 h TMA_2022_PDAC8_s0_a134_ac_IA.tiff\n",
      "21 h TMA_2022_PDAC8_s0_a133_ac_IA.tiff\n"
     ]
    }
   ],
   "source": [
    "for file in os.listdir(start_dir):\n",
    "    if '_full.tiff' in file:\n",
    "        full_tiff_file = os.path.join(start_dir, file)\n",
    "        IA_file_name = file.replace(\"_full.tiff\", \"_IA.tiff\")\n",
    "        im = imread(full_tiff_file)\n",
    "        c, h, w = im.shape\n",
    "        if h < c: #the index error happens when number of channels in included in full.tiff is less than number of pixels. 50 is good rule of thumb to avoid this error\n",
    "            print(h, \"height less\", IA_file_name)\n",
    "            continue\n",
    "        if w < c:  #the index error happens when number of channels in included in full.tiff is less than number of pixels. 50 is good rule of thumb to avoid this error\n",
    "            print(w, \"width too low\", IA_file_name)\n",
    "            continue\n",
    "        if im.shape[0]<im.shape[1] and im.shape[0]<im.shape[2] : \n",
    "            im = np.rollaxis(im, 0, 3) \n",
    "            IA_stack = np.zeros((im.shape[0],im.shape[1],3))\n",
    "            for cats in IA: \n",
    "                j = int(cats) \n",
    "                pnl = join_df.loc[(join_df['full'] == 1 ) & (join_df['IA'] == j)]\n",
    "                ims = im[:, :, pnl['metal_ch_index']-1]\n",
    "                IA_stack[:,:,j-1] = ims.sum(axis=2)\n",
    "                IA_stack2 = rescale(IA_stack,1, multichannel=True, anti_aliasing=False, mode='reflect')\n",
    "                IA_stack2 = np.array(IA_stack2,dtype='uint16')\n",
    "            fn = os.path.join(os.path.abspath(start_dir), IA_file_name)\n",
    "            imsave(fn, IA_stack2, check_contrast=False)\n",
    "        "
   ]
  },
  {
   "cell_type": "markdown",
   "metadata": {},
   "source": [
    "## Segmentation"
   ]
  },
  {
   "cell_type": "markdown",
   "metadata": {},
   "source": [
    "### Add Padding to Smallest Images"
   ]
  },
  {
   "cell_type": "code",
   "execution_count": null,
   "metadata": {},
   "outputs": [],
   "source": [
    "#add padding to the smaller images (the ones less than 256), to prevent them from failing segmentation\n",
    "#all the ones that fail are less than 256 x 256, although not all images less than 256x256 fail\n",
    "base_path = './analysis/tiffs'\n",
    "for file in os.listdir(base_path):\n",
    "    if 'IA.tiff' in file:\n",
    "        iao = os.path.join(base_path, file)\n",
    "        im = imread(iao)\n",
    "        im = im.transpose(2,0,1)  #transpose to work with padding\n",
    "        c, h, w,  = im.shape\n",
    "        #print(len(im))\n",
    "        if h < 256:\n",
    "            print(\"Oh No - height too low\")\n",
    "            im = np.asarray([np.pad(x, pad_width=((256 - h, 0), (0,0) ), mode='constant', constant_values= 0,) for x in im])\n",
    "            #print(im.shape)\n",
    "        #print(w)\n",
    "        if w < 256:\n",
    "            print(\"Oh No - width too low\") \n",
    "            im = np.asarray([np.pad(x, pad_width=((0, 0), (256-w,0) ), mode='constant', constant_values= 0,) for x in im])\n",
    "            #print(im.shape)\n",
    "        im = im.transpose(1,2,0)   #transpose back after padding\n",
    "        #print(im.shape)\n",
    "        for_tiff = np.array(im, dtype='uint16') \n",
    "        fn = os.path.join(base_path, file)  \n",
    "        imsave(fn, for_tiff, check_contrast=False)"
   ]
  },
  {
   "cell_type": "markdown",
   "metadata": {},
   "source": [
    "### Deepcell Segmentation"
   ]
  },
  {
   "cell_type": "code",
   "execution_count": null,
   "metadata": {},
   "outputs": [],
   "source": [
    "base_path = './analysis/tiffs'\n",
    "for file in os.listdir(base_path):\n",
    "    if 'IA.tiff' in file:\n",
    "        ex_mask_fn = file.replace('IA.tiff', 'IA_mask.tiff')\n",
    "        if os.path.isfile(os.path.join(base_path, ex_mask_fn)):\n",
    "            continue\n",
    "        iao = os.path.join(base_path, file)\n",
    "        im = imread(iao)\n",
    "        image = np.expand_dims(im, axis=0)\n",
    "        rgb_im = create_rgb_image(image[:, :, :, 0:2], channel_colors=['green', 'blue'])\n",
    "        app = Mesmer()\n",
    "        seg_pred = app.predict(image[:, :, :, 0:2], image_mpp=0.5)\n",
    "        for_tiff = np.array(seg_pred[0],dtype='uint16')\n",
    "        fn = os.path.join(base_path, file.replace('IA.tiff', 'IA_mask.tiff'))\n",
    "        imsave(fn, for_tiff, check_contrast=False)"
   ]
  },
  {
   "cell_type": "markdown",
   "metadata": {},
   "source": [
    "### Remove Padding"
   ]
  },
  {
   "cell_type": "code",
   "execution_count": 1,
   "metadata": {},
   "outputs": [
    {
     "ename": "NameError",
     "evalue": "name 'os' is not defined",
     "output_type": "error",
     "traceback": [
      "\u001b[0;31m---------------------------------------------------------------------------\u001b[0m",
      "\u001b[0;31mNameError\u001b[0m                                 Traceback (most recent call last)",
      "Cell \u001b[0;32mIn[1], line 4\u001b[0m\n\u001b[1;32m      1\u001b[0m \u001b[38;5;66;03m#remove border from masks\u001b[39;00m\n\u001b[1;32m      2\u001b[0m \u001b[38;5;66;03m#aka, remove the difference between the full tiff file and the IA file\u001b[39;00m\n\u001b[1;32m      3\u001b[0m base_path \u001b[38;5;241m=\u001b[39m \u001b[38;5;124m'\u001b[39m\u001b[38;5;124m./analysis/tiffs\u001b[39m\u001b[38;5;124m'\u001b[39m\n\u001b[0;32m----> 4\u001b[0m \u001b[38;5;28;01mfor\u001b[39;00m file \u001b[38;5;129;01min\u001b[39;00m \u001b[43mos\u001b[49m\u001b[38;5;241m.\u001b[39mlistdir(base_path):\n\u001b[1;32m      5\u001b[0m     \u001b[38;5;28;01mif\u001b[39;00m \u001b[38;5;124m'\u001b[39m\u001b[38;5;124mIA_mask.tiff\u001b[39m\u001b[38;5;124m'\u001b[39m \u001b[38;5;129;01min\u001b[39;00m file:\n\u001b[1;32m      6\u001b[0m         mask_tiff_name \u001b[38;5;241m=\u001b[39m os\u001b[38;5;241m.\u001b[39mpath\u001b[38;5;241m.\u001b[39mjoin(base_path, file)\n",
      "\u001b[0;31mNameError\u001b[0m: name 'os' is not defined"
     ]
    }
   ],
   "source": [
    "#remove border from masks\n",
    "#aka, remove the difference between the full tiff file and the IA file\n",
    "base_path = './analysis/tiffs'\n",
    "for file in os.listdir(base_path):\n",
    "    if 'IA_mask.tiff' in file:\n",
    "        mask_tiff_name = os.path.join(base_path, file)\n",
    "        full_tiff_name = file.replace('_IA_mask', '_full')\n",
    "        IA_tiff_name = file.replace('_IA_mask', '_IA')\n",
    "        \n",
    "        mask_im = imread(mask_tiff_name)\n",
    "        full_im = imread(os.path.join(base_path, full_tiff_name))\n",
    "        IA_im = imread(os.path.join(base_path, IA_tiff_name))\n",
    "        \n",
    "        h_padded, w_padded, c_padded = IA_im.shape\n",
    "        h, w, c = full_im.shape\n",
    "        \n",
    "        height_to_remove = h_padded - h\n",
    "        width_to_remove = w_padded - w\n",
    "\n",
    "        if height_to_remove != 0:\n",
    "            mask_im = mask_im[height_to_remove : h_padded, 0 : w_padded]\n",
    "        if width_to_remove != 0:\n",
    "            mask_im = mask_im[0: h , width_to_remove : w_padded]\n",
    "        \n",
    "        for_tiff = np.array(mask_im, dtype='uint16') \n",
    "        imsave(mask_tiff_name, for_tiff, check_contrast=False)"
   ]
  },
  {
   "cell_type": "markdown",
   "metadata": {},
   "source": [
    "## Expressions"
   ]
  },
  {
   "cell_type": "code",
   "execution_count": 9,
   "metadata": {},
   "outputs": [],
   "source": [
    "#Reading files\n",
    "current_path = os.path.abspath(os.getcwd())\n",
    "folder_path_base = os.path.join(current_path, 'analysis', 'tiffs')\n",
    "folder_data_base = os.path.join(current_path, 'data')\n",
    "file_path_csv_panel = os.path.join(current_path, 'config', 'Panel.csv') \n",
    "file_path_sample = os.path.join(current_path, 'analysis', 'output', 'Sample.csv')\n",
    "output_measurments_file = os.path.join(current_path, 'analysis', 'output', 'measurements.csv')\n",
    "sample_df = pd.read_csv(file_path_sample)\n",
    "panel_df = pd.read_csv(os.path.join(file_path_csv_panel))\n",
    "panel = get_panel(folder_path_base, panel_df)"
   ]
  },
  {
   "cell_type": "code",
   "execution_count": 11,
   "metadata": {},
   "outputs": [],
   "source": [
    "expressions = df_measured(folder_path_base, sample_df, panel)\n",
    "expressions.to_csv('./analysis/output/measurements.csv', index=False)"
   ]
  }
 ],
 "metadata": {
  "kernelspec": {
   "display_name": "Python 3 (ipykernel)",
   "language": "python",
   "name": "python3"
  },
  "language_info": {
   "codemirror_mode": {
    "name": "ipython",
    "version": 3
   },
   "file_extension": ".py",
   "mimetype": "text/x-python",
   "name": "python",
   "nbconvert_exporter": "python",
   "pygments_lexer": "ipython3",
   "version": "3.8.16"
  },
  "vscode": {
   "interpreter": {
    "hash": "92a8f09ebdee7a7ccc900142fc07ddd439f7ce2aa1bbfea9024db421bec27d89"
   }
  }
 },
 "nbformat": 4,
 "nbformat_minor": 4
}
